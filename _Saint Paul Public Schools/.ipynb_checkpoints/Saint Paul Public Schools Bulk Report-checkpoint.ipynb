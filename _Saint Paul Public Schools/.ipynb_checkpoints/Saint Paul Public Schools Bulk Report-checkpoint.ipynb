{
 "cells": [
  {
   "cell_type": "code",
   "execution_count": null,
   "metadata": {},
   "outputs": [],
   "source": []
  },
  {
   "cell_type": "code",
   "execution_count": null,
   "metadata": {},
   "outputs": [],
   "source": []
  },
  {
   "cell_type": "code",
   "execution_count": null,
   "metadata": {},
   "outputs": [],
   "source": []
  },
  {
   "cell_type": "markdown",
   "metadata": {},
   "source": [
    "### Personal Opinion as a former Education Data Analyst\n",
    "\n",
    "In 2015, I was the Education Data Analyst for South Washington County Schools for over two years, and South Washington schools was the third largest school district in the state. I have some knowledge on assessment and standardized testing, and in my personal opinion the Minnesota Department of Education (MDE), places too much emphasis on standardized testing. I can list several reasons on how standardized testing is inequitable and how the state evaluation methods is systematically unjust. Putting all that aside, state testing still matters as it can influence people's decision in choosing schools, and testing determine many things such as resources, and additional burden to school administrations. For this reason, it is worth informing you about the trends in Saint Paul Public Schools. I'll be replicating some of the diagnostic reports that I have implemented in the past.\n",
    "\n",
    "Here are several things to keep in mind when processing the data as it may be alarming and encourage the reader to be curious:\n",
    "\n",
    "* How can we address the challenges right NOW? Investing only on early childhood programs (albeit easier to do) does not address the systemic challenges now? \n",
    "* If standardized testing is not working for our city/communities, what are some existing alternatives? Or do we create, inclusively, a different curriculum/ academic standard that is aligned to community needs\n",
    "* How does charter schools influence SPPS? (I will not evaluate this)\n",
    "* What is the role of citizens in influencing SPPS policies, and state/federal policies?\n",
    "* What is the role of parents/students influencing SPSS\n",
    "* What does your local educators have to say about this?\n",
    "* Where are we spending our money, and how do we divert to things that matter?\n",
    "\n"
   ]
  },
  {
   "cell_type": "markdown",
   "metadata": {},
   "source": [
    "### About the Data\n",
    "\n",
    "The datasets are retrieved from MDE Data Center [Data Reporting Web Portal](https://public.education.mn.gov/MDEAnalytics/DataTopic.jsp?TOPICID=1) I selected the following specifications below, which lists the three files for each respective subjects: Math, Reading, and Science. These reports combine both the Minnesota Comprehensive Assessment (MCA) and Minnesota Test of Academic Skills (MTAS). The MCA is the standardized test of Minnesota and has to follow both federal and state guidelines. The MTAS is an alternate assessment based on alternate achievement standards for students with the most significant cognitive disabilities. The subject testing grade breakdown is below, notice Science MCA is given in staggered years, and high school testing for all subjects has a gap from 8th grade. Personally, I would not give much weight on the high school tests because it is not mandatory to pass to graduate high school, and high schoolers will place more effort on college entrance examinations such as the Amercian College Testing (ACT). On the SPPS website, you can view the ACT results through an [interactive report.](https://www.spps.org/Page/28069) The testing itself is evaluated into four categories: Does Not Meet, Partially Meet, Meet, and Exceed Standards. Proficiency is the percentage of Meet and Exceed standard students.\n",
    "\n",
    "In addition, the state of Minnesota is concerned with several achievement gaps, \n",
    "\n",
    "Upon recently, parents and students can option out from taking the MCA (this may have some consequences)  \n",
    "\n",
    "\n",
    "Saint Paul Public Schools (SPPS) is the second largest school district in Minnesota with over 44 elementary schools, 6 intermediate schools, and 5 high schools. Due to the vast number of schools, and inadequate software it is hard to evaluate the individual schools on achievement gaps. \n",
    "\n",
    "\n",
    "This report makes the data much more accessible than the Minnesota Report Card and/or from the SPPS website. The report is broken down by Schools"
   ]
  },
  {
   "cell_type": "markdown",
   "metadata": {},
   "source": [
    "# Elementary Schools: District/State Level <a name=\"elem\"></a>\n",
    "\n",
    "#### Reading Data"
   ]
  },
  {
   "cell_type": "code",
   "execution_count": 12,
   "metadata": {},
   "outputs": [
    {
     "data": {
      "text/html": [
       "<div>\n",
       "<style scoped>\n",
       "    .dataframe tbody tr th:only-of-type {\n",
       "        vertical-align: middle;\n",
       "    }\n",
       "\n",
       "    .dataframe tbody tr th {\n",
       "        vertical-align: top;\n",
       "    }\n",
       "\n",
       "    .dataframe thead th {\n",
       "        text-align: right;\n",
       "    }\n",
       "</style>\n",
       "<table border=\"1\" class=\"dataframe\">\n",
       "  <thead>\n",
       "    <tr style=\"text-align: right;\">\n",
       "      <th></th>\n",
       "      <th>School</th>\n",
       "      <th>Num</th>\n",
       "      <th>Grade</th>\n",
       "      <th>Prof</th>\n",
       "      <th>White_Prof</th>\n",
       "      <th>POC_Prof</th>\n",
       "      <th>Black_Prof</th>\n",
       "      <th>Male_Prof</th>\n",
       "      <th>Female_Prof</th>\n",
       "      <th>FRPL_Prof</th>\n",
       "      <th>NonFRPL_Prof</th>\n",
       "    </tr>\n",
       "  </thead>\n",
       "  <tbody>\n",
       "    <tr>\n",
       "      <th>161</th>\n",
       "      <td>District_All</td>\n",
       "      <td>0.0</td>\n",
       "      <td>3.0</td>\n",
       "      <td>0.3525</td>\n",
       "      <td>0.6891</td>\n",
       "      <td>0.2558</td>\n",
       "      <td>0.2270</td>\n",
       "      <td>0.3281</td>\n",
       "      <td>0.3768</td>\n",
       "      <td>0.2162</td>\n",
       "      <td>0.6019</td>\n",
       "    </tr>\n",
       "    <tr>\n",
       "      <th>162</th>\n",
       "      <td>District_All</td>\n",
       "      <td>0.0</td>\n",
       "      <td>4.0</td>\n",
       "      <td>0.3463</td>\n",
       "      <td>0.7038</td>\n",
       "      <td>0.2547</td>\n",
       "      <td>0.1975</td>\n",
       "      <td>0.3293</td>\n",
       "      <td>0.3646</td>\n",
       "      <td>0.2267</td>\n",
       "      <td>0.5962</td>\n",
       "    </tr>\n",
       "    <tr>\n",
       "      <th>163</th>\n",
       "      <td>District_All</td>\n",
       "      <td>0.0</td>\n",
       "      <td>5.0</td>\n",
       "      <td>0.4658</td>\n",
       "      <td>0.7725</td>\n",
       "      <td>0.3833</td>\n",
       "      <td>0.3072</td>\n",
       "      <td>0.4259</td>\n",
       "      <td>0.5066</td>\n",
       "      <td>0.3407</td>\n",
       "      <td>0.7223</td>\n",
       "    </tr>\n",
       "    <tr>\n",
       "      <th>168</th>\n",
       "      <td>State_All</td>\n",
       "      <td>0.0</td>\n",
       "      <td>3.0</td>\n",
       "      <td>0.5461</td>\n",
       "      <td>0.6366</td>\n",
       "      <td>0.3847</td>\n",
       "      <td>0.3242</td>\n",
       "      <td>0.5163</td>\n",
       "      <td>0.5771</td>\n",
       "      <td>0.3555</td>\n",
       "      <td>0.6720</td>\n",
       "    </tr>\n",
       "    <tr>\n",
       "      <th>169</th>\n",
       "      <td>State_All</td>\n",
       "      <td>0.0</td>\n",
       "      <td>4.0</td>\n",
       "      <td>0.5543</td>\n",
       "      <td>0.6534</td>\n",
       "      <td>0.3805</td>\n",
       "      <td>0.3072</td>\n",
       "      <td>0.5257</td>\n",
       "      <td>0.5846</td>\n",
       "      <td>0.3568</td>\n",
       "      <td>0.6860</td>\n",
       "    </tr>\n",
       "    <tr>\n",
       "      <th>170</th>\n",
       "      <td>State_All</td>\n",
       "      <td>0.0</td>\n",
       "      <td>5.0</td>\n",
       "      <td>0.6577</td>\n",
       "      <td>0.7492</td>\n",
       "      <td>0.4919</td>\n",
       "      <td>0.4179</td>\n",
       "      <td>0.6263</td>\n",
       "      <td>0.6903</td>\n",
       "      <td>0.4741</td>\n",
       "      <td>0.7798</td>\n",
       "    </tr>\n",
       "  </tbody>\n",
       "</table>\n",
       "</div>"
      ],
      "text/plain": [
       "           School  Num  Grade    Prof  White_Prof  POC_Prof  Black_Prof  \\\n",
       "161  District_All  0.0    3.0  0.3525      0.6891    0.2558      0.2270   \n",
       "162  District_All  0.0    4.0  0.3463      0.7038    0.2547      0.1975   \n",
       "163  District_All  0.0    5.0  0.4658      0.7725    0.3833      0.3072   \n",
       "168     State_All  0.0    3.0  0.5461      0.6366    0.3847      0.3242   \n",
       "169     State_All  0.0    4.0  0.5543      0.6534    0.3805      0.3072   \n",
       "170     State_All  0.0    5.0  0.6577      0.7492    0.4919      0.4179   \n",
       "\n",
       "     Male_Prof  Female_Prof  FRPL_Prof  NonFRPL_Prof  \n",
       "161     0.3281       0.3768     0.2162        0.6019  \n",
       "162     0.3293       0.3646     0.2267        0.5962  \n",
       "163     0.4259       0.5066     0.3407        0.7223  \n",
       "168     0.5163       0.5771     0.3555        0.6720  \n",
       "169     0.5257       0.5846     0.3568        0.6860  \n",
       "170     0.6263       0.6903     0.4741        0.7798  "
      ]
     },
     "execution_count": 12,
     "metadata": {},
     "output_type": "execute_result"
    }
   ],
   "source": [
    "Reading.query('Num==0 and Grade in (3,4,5)')"
   ]
  },
  {
   "cell_type": "markdown",
   "metadata": {},
   "source": [
    "#### Math Data"
   ]
  },
  {
   "cell_type": "code",
   "execution_count": 13,
   "metadata": {},
   "outputs": [
    {
     "data": {
      "text/html": [
       "<div>\n",
       "<style scoped>\n",
       "    .dataframe tbody tr th:only-of-type {\n",
       "        vertical-align: middle;\n",
       "    }\n",
       "\n",
       "    .dataframe tbody tr th {\n",
       "        vertical-align: top;\n",
       "    }\n",
       "\n",
       "    .dataframe thead th {\n",
       "        text-align: right;\n",
       "    }\n",
       "</style>\n",
       "<table border=\"1\" class=\"dataframe\">\n",
       "  <thead>\n",
       "    <tr style=\"text-align: right;\">\n",
       "      <th></th>\n",
       "      <th>School</th>\n",
       "      <th>Num</th>\n",
       "      <th>Grade</th>\n",
       "      <th>Prof</th>\n",
       "      <th>White_Prof</th>\n",
       "      <th>POC_Prof</th>\n",
       "      <th>Black_Prof</th>\n",
       "      <th>Male_Prof</th>\n",
       "      <th>Female_Prof</th>\n",
       "      <th>FRPL_Prof</th>\n",
       "      <th>NonFRPL_Prof</th>\n",
       "    </tr>\n",
       "  </thead>\n",
       "  <tbody>\n",
       "    <tr>\n",
       "      <th>161</th>\n",
       "      <td>District_All</td>\n",
       "      <td>0.0</td>\n",
       "      <td>3.0</td>\n",
       "      <td>0.3966</td>\n",
       "      <td>0.7251</td>\n",
       "      <td>0.3021</td>\n",
       "      <td>0.2486</td>\n",
       "      <td>0.4268</td>\n",
       "      <td>0.3664</td>\n",
       "      <td>0.2625</td>\n",
       "      <td>0.6425</td>\n",
       "    </tr>\n",
       "    <tr>\n",
       "      <th>162</th>\n",
       "      <td>District_All</td>\n",
       "      <td>0.0</td>\n",
       "      <td>4.0</td>\n",
       "      <td>0.3903</td>\n",
       "      <td>0.7227</td>\n",
       "      <td>0.3046</td>\n",
       "      <td>0.2259</td>\n",
       "      <td>0.3993</td>\n",
       "      <td>0.3804</td>\n",
       "      <td>0.2790</td>\n",
       "      <td>0.6229</td>\n",
       "    </tr>\n",
       "    <tr>\n",
       "      <th>163</th>\n",
       "      <td>District_All</td>\n",
       "      <td>0.0</td>\n",
       "      <td>5.0</td>\n",
       "      <td>0.3127</td>\n",
       "      <td>0.6074</td>\n",
       "      <td>0.2332</td>\n",
       "      <td>0.1432</td>\n",
       "      <td>0.3153</td>\n",
       "      <td>0.3100</td>\n",
       "      <td>0.2070</td>\n",
       "      <td>0.5296</td>\n",
       "    </tr>\n",
       "    <tr>\n",
       "      <th>168</th>\n",
       "      <td>State_All</td>\n",
       "      <td>0.0</td>\n",
       "      <td>3.0</td>\n",
       "      <td>0.6560</td>\n",
       "      <td>0.7612</td>\n",
       "      <td>0.4680</td>\n",
       "      <td>0.3849</td>\n",
       "      <td>0.6796</td>\n",
       "      <td>0.6314</td>\n",
       "      <td>0.4518</td>\n",
       "      <td>0.7905</td>\n",
       "    </tr>\n",
       "    <tr>\n",
       "      <th>169</th>\n",
       "      <td>State_All</td>\n",
       "      <td>0.0</td>\n",
       "      <td>4.0</td>\n",
       "      <td>0.6387</td>\n",
       "      <td>0.7465</td>\n",
       "      <td>0.4492</td>\n",
       "      <td>0.3499</td>\n",
       "      <td>0.6530</td>\n",
       "      <td>0.6235</td>\n",
       "      <td>0.4323</td>\n",
       "      <td>0.7762</td>\n",
       "    </tr>\n",
       "    <tr>\n",
       "      <th>170</th>\n",
       "      <td>State_All</td>\n",
       "      <td>0.0</td>\n",
       "      <td>5.0</td>\n",
       "      <td>0.5204</td>\n",
       "      <td>0.6158</td>\n",
       "      <td>0.3475</td>\n",
       "      <td>0.2580</td>\n",
       "      <td>0.5297</td>\n",
       "      <td>0.5107</td>\n",
       "      <td>0.3206</td>\n",
       "      <td>0.6532</td>\n",
       "    </tr>\n",
       "  </tbody>\n",
       "</table>\n",
       "</div>"
      ],
      "text/plain": [
       "           School  Num  Grade    Prof  White_Prof  POC_Prof  Black_Prof  \\\n",
       "161  District_All  0.0    3.0  0.3966      0.7251    0.3021      0.2486   \n",
       "162  District_All  0.0    4.0  0.3903      0.7227    0.3046      0.2259   \n",
       "163  District_All  0.0    5.0  0.3127      0.6074    0.2332      0.1432   \n",
       "168     State_All  0.0    3.0  0.6560      0.7612    0.4680      0.3849   \n",
       "169     State_All  0.0    4.0  0.6387      0.7465    0.4492      0.3499   \n",
       "170     State_All  0.0    5.0  0.5204      0.6158    0.3475      0.2580   \n",
       "\n",
       "     Male_Prof  Female_Prof  FRPL_Prof  NonFRPL_Prof  \n",
       "161     0.4268       0.3664     0.2625        0.6425  \n",
       "162     0.3993       0.3804     0.2790        0.6229  \n",
       "163     0.3153       0.3100     0.2070        0.5296  \n",
       "168     0.6796       0.6314     0.4518        0.7905  \n",
       "169     0.6530       0.6235     0.4323        0.7762  \n",
       "170     0.5297       0.5107     0.3206        0.6532  "
      ]
     },
     "execution_count": 13,
     "metadata": {},
     "output_type": "execute_result"
    }
   ],
   "source": [
    "Math.query('Num==0 and Grade in (3,4,5)')"
   ]
  },
  {
   "cell_type": "markdown",
   "metadata": {},
   "source": [
    "#### Science Data"
   ]
  },
  {
   "cell_type": "code",
   "execution_count": null,
   "metadata": {},
   "outputs": [],
   "source": [
    "Science.query('Num==0 and Grade in (5)')"
   ]
  },
  {
   "cell_type": "markdown",
   "metadata": {},
   "source": [
    "## ES <a name=\"elem1\"></a>\n",
    "\n",
    "#### Enroll Data"
   ]
  },
  {
   "cell_type": "code",
   "execution_count": 14,
   "metadata": {},
   "outputs": [
    {
     "data": {
      "text/html": [
       "<div>\n",
       "<style scoped>\n",
       "    .dataframe tbody tr th:only-of-type {\n",
       "        vertical-align: middle;\n",
       "    }\n",
       "\n",
       "    .dataframe tbody tr th {\n",
       "        vertical-align: top;\n",
       "    }\n",
       "\n",
       "    .dataframe thead th {\n",
       "        text-align: right;\n",
       "    }\n",
       "</style>\n",
       "<table border=\"1\" class=\"dataframe\">\n",
       "  <thead>\n",
       "    <tr style=\"text-align: right;\">\n",
       "      <th></th>\n",
       "      <th>Num</th>\n",
       "      <th>School</th>\n",
       "      <th>Tot_Enroll</th>\n",
       "      <th>Male%</th>\n",
       "      <th>White%</th>\n",
       "      <th>Black%</th>\n",
       "      <th>Asian%</th>\n",
       "      <th>FRP%</th>\n",
       "      <th>ELL%</th>\n",
       "      <th>SPED%</th>\n",
       "      <th>Homeless%</th>\n",
       "    </tr>\n",
       "  </thead>\n",
       "  <tbody>\n",
       "    <tr>\n",
       "      <th>13</th>\n",
       "      <td>462.0</td>\n",
       "      <td>L'Etoile Du Nord French Immersion U</td>\n",
       "      <td>304.0</td>\n",
       "      <td>39.80</td>\n",
       "      <td>53.62</td>\n",
       "      <td>19.41</td>\n",
       "      <td>3.62</td>\n",
       "      <td>30.26%</td>\n",
       "      <td>12.50%</td>\n",
       "      <td>4.61%</td>\n",
       "      <td>0.00%</td>\n",
       "    </tr>\n",
       "    <tr>\n",
       "      <th>21</th>\n",
       "      <td>483.0</td>\n",
       "      <td>Jie Ming Mandarin Immersion Academy</td>\n",
       "      <td>293.0</td>\n",
       "      <td>47.10</td>\n",
       "      <td>30.03</td>\n",
       "      <td>8.19</td>\n",
       "      <td>31.06</td>\n",
       "      <td>25.60%</td>\n",
       "      <td>26.62%</td>\n",
       "      <td>3.07%</td>\n",
       "      <td>0.00%</td>\n",
       "    </tr>\n",
       "    <tr>\n",
       "      <th>30</th>\n",
       "      <td>518.0</td>\n",
       "      <td>Horace Mann School</td>\n",
       "      <td>432.0</td>\n",
       "      <td>49.07</td>\n",
       "      <td>66.90</td>\n",
       "      <td>13.19</td>\n",
       "      <td>3.47</td>\n",
       "      <td>21.53%</td>\n",
       "      <td>9.03%</td>\n",
       "      <td>9.95%</td>\n",
       "      <td>0.46%</td>\n",
       "    </tr>\n",
       "    <tr>\n",
       "      <th>37</th>\n",
       "      <td>545.0</td>\n",
       "      <td>Randolph Heights Elementary</td>\n",
       "      <td>447.0</td>\n",
       "      <td>51.68</td>\n",
       "      <td>64.65</td>\n",
       "      <td>13.20</td>\n",
       "      <td>6.26</td>\n",
       "      <td>28.41%</td>\n",
       "      <td>12.30%</td>\n",
       "      <td>5.15%</td>\n",
       "      <td>0.45%</td>\n",
       "    </tr>\n",
       "    <tr>\n",
       "      <th>40</th>\n",
       "      <td>557.0</td>\n",
       "      <td>St. Anthony Park Elementary</td>\n",
       "      <td>515.0</td>\n",
       "      <td>50.87</td>\n",
       "      <td>60.97</td>\n",
       "      <td>11.46</td>\n",
       "      <td>11.07</td>\n",
       "      <td>25.44%</td>\n",
       "      <td>16.50%</td>\n",
       "      <td>9.51%</td>\n",
       "      <td>0.00%</td>\n",
       "    </tr>\n",
       "  </tbody>\n",
       "</table>\n",
       "</div>"
      ],
      "text/plain": [
       "      Num                               School  Tot_Enroll  Male%  White%  \\\n",
       "13  462.0  L'Etoile Du Nord French Immersion U       304.0  39.80   53.62   \n",
       "21  483.0  Jie Ming Mandarin Immersion Academy       293.0  47.10   30.03   \n",
       "30  518.0                   Horace Mann School       432.0  49.07   66.90   \n",
       "37  545.0          Randolph Heights Elementary       447.0  51.68   64.65   \n",
       "40  557.0          St. Anthony Park Elementary       515.0  50.87   60.97   \n",
       "\n",
       "    Black%  Asian%    FRP%    ELL%  SPED% Homeless%  \n",
       "13   19.41    3.62  30.26%  12.50%  4.61%     0.00%  \n",
       "21    8.19   31.06  25.60%  26.62%  3.07%     0.00%  \n",
       "30   13.19    3.47  21.53%   9.03%  9.95%     0.46%  \n",
       "37   13.20    6.26  28.41%  12.30%  5.15%     0.45%  \n",
       "40   11.46   11.07  25.44%  16.50%  9.51%     0.00%  "
      ]
     },
     "execution_count": 14,
     "metadata": {},
     "output_type": "execute_result"
    }
   ],
   "source": [
    "Enroll.query('Num in (518,557,483,545,462)')"
   ]
  },
  {
   "cell_type": "markdown",
   "metadata": {},
   "source": [
    "#### Reading Data\n",
    "\n",
    "![title](Graphs/R_Elem1.png)"
   ]
  },
  {
   "cell_type": "code",
   "execution_count": 20,
   "metadata": {},
   "outputs": [
    {
     "data": {
      "text/html": [
       "<div>\n",
       "<style scoped>\n",
       "    .dataframe tbody tr th:only-of-type {\n",
       "        vertical-align: middle;\n",
       "    }\n",
       "\n",
       "    .dataframe tbody tr th {\n",
       "        vertical-align: top;\n",
       "    }\n",
       "\n",
       "    .dataframe thead th {\n",
       "        text-align: right;\n",
       "    }\n",
       "</style>\n",
       "<table border=\"1\" class=\"dataframe\">\n",
       "  <thead>\n",
       "    <tr style=\"text-align: right;\">\n",
       "      <th></th>\n",
       "      <th>School</th>\n",
       "      <th>Num</th>\n",
       "      <th>Grade</th>\n",
       "      <th>Prof</th>\n",
       "      <th>White_Prof</th>\n",
       "      <th>POC_Prof</th>\n",
       "      <th>Black_Prof</th>\n",
       "      <th>Male_Prof</th>\n",
       "      <th>Female_Prof</th>\n",
       "      <th>FRPL_Prof</th>\n",
       "      <th>NonFRPL_Prof</th>\n",
       "    </tr>\n",
       "  </thead>\n",
       "  <tbody>\n",
       "    <tr>\n",
       "      <th>38</th>\n",
       "      <td>L'Etoile Du Nord French Immersion U</td>\n",
       "      <td>462.0</td>\n",
       "      <td>3.0</td>\n",
       "      <td>0.6230</td>\n",
       "      <td>0.7857</td>\n",
       "      <td>0.4848</td>\n",
       "      <td>0.6923</td>\n",
       "      <td>0.6522</td>\n",
       "      <td>0.6053</td>\n",
       "      <td>0.4286</td>\n",
       "      <td>0.6809</td>\n",
       "    </tr>\n",
       "    <tr>\n",
       "      <th>39</th>\n",
       "      <td>L'Etoile Du Nord French Immersion U</td>\n",
       "      <td>462.0</td>\n",
       "      <td>4.0</td>\n",
       "      <td>0.6230</td>\n",
       "      <td>0.8571</td>\n",
       "      <td>0.3077</td>\n",
       "      <td>0.3333</td>\n",
       "      <td>0.6296</td>\n",
       "      <td>0.6176</td>\n",
       "      <td>0.3500</td>\n",
       "      <td>0.7561</td>\n",
       "    </tr>\n",
       "    <tr>\n",
       "      <th>40</th>\n",
       "      <td>L'Etoile Du Nord French Immersion U</td>\n",
       "      <td>462.0</td>\n",
       "      <td>5.0</td>\n",
       "      <td>0.8625</td>\n",
       "      <td>0.9000</td>\n",
       "      <td>0.8250</td>\n",
       "      <td>0.9333</td>\n",
       "      <td>0.9259</td>\n",
       "      <td>0.8302</td>\n",
       "      <td>0.7500</td>\n",
       "      <td>0.9107</td>\n",
       "    </tr>\n",
       "    <tr>\n",
       "      <th>59</th>\n",
       "      <td>Jie Ming Mandarin Immersion Academy</td>\n",
       "      <td>483.0</td>\n",
       "      <td>3.0</td>\n",
       "      <td>0.8065</td>\n",
       "      <td>NaN</td>\n",
       "      <td>NaN</td>\n",
       "      <td>NaN</td>\n",
       "      <td>0.7692</td>\n",
       "      <td>0.8333</td>\n",
       "      <td>NaN</td>\n",
       "      <td>0.8889</td>\n",
       "    </tr>\n",
       "    <tr>\n",
       "      <th>60</th>\n",
       "      <td>Jie Ming Mandarin Immersion Academy</td>\n",
       "      <td>483.0</td>\n",
       "      <td>4.0</td>\n",
       "      <td>0.9643</td>\n",
       "      <td>NaN</td>\n",
       "      <td>NaN</td>\n",
       "      <td>NaN</td>\n",
       "      <td>0.9167</td>\n",
       "      <td>1.0000</td>\n",
       "      <td>NaN</td>\n",
       "      <td>0.9565</td>\n",
       "    </tr>\n",
       "    <tr>\n",
       "      <th>61</th>\n",
       "      <td>Jie Ming Mandarin Immersion Academy</td>\n",
       "      <td>483.0</td>\n",
       "      <td>5.0</td>\n",
       "      <td>0.8095</td>\n",
       "      <td>NaN</td>\n",
       "      <td>NaN</td>\n",
       "      <td>NaN</td>\n",
       "      <td>NaN</td>\n",
       "      <td>0.7692</td>\n",
       "      <td>NaN</td>\n",
       "      <td>0.9286</td>\n",
       "    </tr>\n",
       "    <tr>\n",
       "      <th>91</th>\n",
       "      <td>Horace Mann School</td>\n",
       "      <td>518.0</td>\n",
       "      <td>3.0</td>\n",
       "      <td>0.7544</td>\n",
       "      <td>0.8372</td>\n",
       "      <td>0.5000</td>\n",
       "      <td>NaN</td>\n",
       "      <td>0.6364</td>\n",
       "      <td>0.8286</td>\n",
       "      <td>NaN</td>\n",
       "      <td>0.8200</td>\n",
       "    </tr>\n",
       "    <tr>\n",
       "      <th>92</th>\n",
       "      <td>Horace Mann School</td>\n",
       "      <td>518.0</td>\n",
       "      <td>4.0</td>\n",
       "      <td>0.7541</td>\n",
       "      <td>0.8500</td>\n",
       "      <td>0.5714</td>\n",
       "      <td>NaN</td>\n",
       "      <td>0.8000</td>\n",
       "      <td>0.6923</td>\n",
       "      <td>0.4615</td>\n",
       "      <td>0.8333</td>\n",
       "    </tr>\n",
       "    <tr>\n",
       "      <th>93</th>\n",
       "      <td>Horace Mann School</td>\n",
       "      <td>518.0</td>\n",
       "      <td>5.0</td>\n",
       "      <td>0.8077</td>\n",
       "      <td>0.8824</td>\n",
       "      <td>0.6667</td>\n",
       "      <td>0.5000</td>\n",
       "      <td>0.7778</td>\n",
       "      <td>0.8485</td>\n",
       "      <td>0.5000</td>\n",
       "      <td>0.9000</td>\n",
       "    </tr>\n",
       "    <tr>\n",
       "      <th>113</th>\n",
       "      <td>Randolph Heights Elementary</td>\n",
       "      <td>545.0</td>\n",
       "      <td>3.0</td>\n",
       "      <td>0.7179</td>\n",
       "      <td>0.8269</td>\n",
       "      <td>0.5000</td>\n",
       "      <td>0.5000</td>\n",
       "      <td>0.5833</td>\n",
       "      <td>0.8333</td>\n",
       "      <td>0.4815</td>\n",
       "      <td>0.8431</td>\n",
       "    </tr>\n",
       "    <tr>\n",
       "      <th>114</th>\n",
       "      <td>Randolph Heights Elementary</td>\n",
       "      <td>545.0</td>\n",
       "      <td>4.0</td>\n",
       "      <td>0.7391</td>\n",
       "      <td>0.8000</td>\n",
       "      <td>0.6250</td>\n",
       "      <td>NaN</td>\n",
       "      <td>0.6923</td>\n",
       "      <td>0.8000</td>\n",
       "      <td>0.5000</td>\n",
       "      <td>0.8367</td>\n",
       "    </tr>\n",
       "    <tr>\n",
       "      <th>115</th>\n",
       "      <td>Randolph Heights Elementary</td>\n",
       "      <td>545.0</td>\n",
       "      <td>5.0</td>\n",
       "      <td>0.8507</td>\n",
       "      <td>0.9000</td>\n",
       "      <td>0.7778</td>\n",
       "      <td>NaN</td>\n",
       "      <td>0.8710</td>\n",
       "      <td>0.8333</td>\n",
       "      <td>0.6667</td>\n",
       "      <td>0.9348</td>\n",
       "    </tr>\n",
       "    <tr>\n",
       "      <th>122</th>\n",
       "      <td>St. Anthony Park Elementary</td>\n",
       "      <td>557.0</td>\n",
       "      <td>3.0</td>\n",
       "      <td>0.6265</td>\n",
       "      <td>0.7111</td>\n",
       "      <td>0.5263</td>\n",
       "      <td>NaN</td>\n",
       "      <td>0.6341</td>\n",
       "      <td>0.6190</td>\n",
       "      <td>0.3636</td>\n",
       "      <td>0.7213</td>\n",
       "    </tr>\n",
       "    <tr>\n",
       "      <th>123</th>\n",
       "      <td>St. Anthony Park Elementary</td>\n",
       "      <td>557.0</td>\n",
       "      <td>4.0</td>\n",
       "      <td>0.7059</td>\n",
       "      <td>0.7931</td>\n",
       "      <td>0.5185</td>\n",
       "      <td>NaN</td>\n",
       "      <td>0.7619</td>\n",
       "      <td>0.6512</td>\n",
       "      <td>0.3750</td>\n",
       "      <td>0.7826</td>\n",
       "    </tr>\n",
       "    <tr>\n",
       "      <th>124</th>\n",
       "      <td>St. Anthony Park Elementary</td>\n",
       "      <td>557.0</td>\n",
       "      <td>5.0</td>\n",
       "      <td>0.6901</td>\n",
       "      <td>0.9512</td>\n",
       "      <td>0.3333</td>\n",
       "      <td>0.3077</td>\n",
       "      <td>0.5625</td>\n",
       "      <td>0.7949</td>\n",
       "      <td>0.3750</td>\n",
       "      <td>0.8511</td>\n",
       "    </tr>\n",
       "  </tbody>\n",
       "</table>\n",
       "</div>"
      ],
      "text/plain": [
       "                                  School    Num  Grade    Prof  White_Prof  \\\n",
       "38   L'Etoile Du Nord French Immersion U  462.0    3.0  0.6230      0.7857   \n",
       "39   L'Etoile Du Nord French Immersion U  462.0    4.0  0.6230      0.8571   \n",
       "40   L'Etoile Du Nord French Immersion U  462.0    5.0  0.8625      0.9000   \n",
       "59   Jie Ming Mandarin Immersion Academy  483.0    3.0  0.8065         NaN   \n",
       "60   Jie Ming Mandarin Immersion Academy  483.0    4.0  0.9643         NaN   \n",
       "61   Jie Ming Mandarin Immersion Academy  483.0    5.0  0.8095         NaN   \n",
       "91                    Horace Mann School  518.0    3.0  0.7544      0.8372   \n",
       "92                    Horace Mann School  518.0    4.0  0.7541      0.8500   \n",
       "93                    Horace Mann School  518.0    5.0  0.8077      0.8824   \n",
       "113          Randolph Heights Elementary  545.0    3.0  0.7179      0.8269   \n",
       "114          Randolph Heights Elementary  545.0    4.0  0.7391      0.8000   \n",
       "115          Randolph Heights Elementary  545.0    5.0  0.8507      0.9000   \n",
       "122          St. Anthony Park Elementary  557.0    3.0  0.6265      0.7111   \n",
       "123          St. Anthony Park Elementary  557.0    4.0  0.7059      0.7931   \n",
       "124          St. Anthony Park Elementary  557.0    5.0  0.6901      0.9512   \n",
       "\n",
       "     POC_Prof  Black_Prof  Male_Prof  Female_Prof  FRPL_Prof  NonFRPL_Prof  \n",
       "38     0.4848      0.6923     0.6522       0.6053     0.4286        0.6809  \n",
       "39     0.3077      0.3333     0.6296       0.6176     0.3500        0.7561  \n",
       "40     0.8250      0.9333     0.9259       0.8302     0.7500        0.9107  \n",
       "59        NaN         NaN     0.7692       0.8333        NaN        0.8889  \n",
       "60        NaN         NaN     0.9167       1.0000        NaN        0.9565  \n",
       "61        NaN         NaN        NaN       0.7692        NaN        0.9286  \n",
       "91     0.5000         NaN     0.6364       0.8286        NaN        0.8200  \n",
       "92     0.5714         NaN     0.8000       0.6923     0.4615        0.8333  \n",
       "93     0.6667      0.5000     0.7778       0.8485     0.5000        0.9000  \n",
       "113    0.5000      0.5000     0.5833       0.8333     0.4815        0.8431  \n",
       "114    0.6250         NaN     0.6923       0.8000     0.5000        0.8367  \n",
       "115    0.7778         NaN     0.8710       0.8333     0.6667        0.9348  \n",
       "122    0.5263         NaN     0.6341       0.6190     0.3636        0.7213  \n",
       "123    0.5185         NaN     0.7619       0.6512     0.3750        0.7826  \n",
       "124    0.3333      0.3077     0.5625       0.7949     0.3750        0.8511  "
      ]
     },
     "execution_count": 20,
     "metadata": {},
     "output_type": "execute_result"
    }
   ],
   "source": [
    "Reading.query('Num in (518,557,483,545,462)')"
   ]
  },
  {
   "cell_type": "markdown",
   "metadata": {},
   "source": [
    "#### Math Data\n",
    "\n",
    "![title](Graphs/M_Elem1.png)"
   ]
  },
  {
   "cell_type": "code",
   "execution_count": null,
   "metadata": {},
   "outputs": [],
   "source": [
    "Math.query('Num in (518,557,483,545,462)')"
   ]
  },
  {
   "cell_type": "markdown",
   "metadata": {},
   "source": [
    "#### Science Data"
   ]
  },
  {
   "cell_type": "code",
   "execution_count": null,
   "metadata": {},
   "outputs": [],
   "source": [
    "Science.query('Num in (518,557,483,545,462)')"
   ]
  },
  {
   "cell_type": "markdown",
   "metadata": {},
   "source": [
    "## ES <a name=\"elem2\"></a>\n",
    "\n",
    "#### Enroll Data"
   ]
  },
  {
   "cell_type": "code",
   "execution_count": 15,
   "metadata": {},
   "outputs": [
    {
     "data": {
      "text/html": [
       "<div>\n",
       "<style scoped>\n",
       "    .dataframe tbody tr th:only-of-type {\n",
       "        vertical-align: middle;\n",
       "    }\n",
       "\n",
       "    .dataframe tbody tr th {\n",
       "        vertical-align: top;\n",
       "    }\n",
       "\n",
       "    .dataframe thead th {\n",
       "        text-align: right;\n",
       "    }\n",
       "</style>\n",
       "<table border=\"1\" class=\"dataframe\">\n",
       "  <thead>\n",
       "    <tr style=\"text-align: right;\">\n",
       "      <th></th>\n",
       "      <th>Num</th>\n",
       "      <th>School</th>\n",
       "      <th>Tot_Enroll</th>\n",
       "      <th>Male%</th>\n",
       "      <th>White%</th>\n",
       "      <th>Black%</th>\n",
       "      <th>Asian%</th>\n",
       "      <th>FRP%</th>\n",
       "      <th>ELL%</th>\n",
       "      <th>SPED%</th>\n",
       "      <th>Homeless%</th>\n",
       "    </tr>\n",
       "  </thead>\n",
       "  <tbody>\n",
       "    <tr>\n",
       "      <th>4</th>\n",
       "      <td>425.0</td>\n",
       "      <td>Chelsea Heights Elementary</td>\n",
       "      <td>445.0</td>\n",
       "      <td>52.36</td>\n",
       "      <td>45.62</td>\n",
       "      <td>22.47</td>\n",
       "      <td>12.13</td>\n",
       "      <td>45.17%</td>\n",
       "      <td>19.33%</td>\n",
       "      <td>9.44%</td>\n",
       "      <td>1.35%</td>\n",
       "    </tr>\n",
       "    <tr>\n",
       "      <th>8</th>\n",
       "      <td>435.0</td>\n",
       "      <td>Expo For Excellence Elementary Sch</td>\n",
       "      <td>663.0</td>\n",
       "      <td>54.75</td>\n",
       "      <td>58.37</td>\n",
       "      <td>23.98</td>\n",
       "      <td>3.92</td>\n",
       "      <td>33.63%</td>\n",
       "      <td>12.97%</td>\n",
       "      <td>11.16%</td>\n",
       "      <td>1.06%</td>\n",
       "    </tr>\n",
       "    <tr>\n",
       "      <th>14</th>\n",
       "      <td>463.0</td>\n",
       "      <td>L'Etoile Du Nord French Immersion L</td>\n",
       "      <td>173.0</td>\n",
       "      <td>36.42</td>\n",
       "      <td>45.66</td>\n",
       "      <td>19.08</td>\n",
       "      <td>6.36</td>\n",
       "      <td>42.20%</td>\n",
       "      <td>18.50%</td>\n",
       "      <td>4.05%</td>\n",
       "      <td>0.00%</td>\n",
       "    </tr>\n",
       "    <tr>\n",
       "      <th>25</th>\n",
       "      <td>493.0</td>\n",
       "      <td>Jj Hill Montessori</td>\n",
       "      <td>406.0</td>\n",
       "      <td>50.00</td>\n",
       "      <td>48.03</td>\n",
       "      <td>23.65</td>\n",
       "      <td>7.64</td>\n",
       "      <td>34.48%</td>\n",
       "      <td>21.18%</td>\n",
       "      <td>10.59%</td>\n",
       "      <td>0.00%</td>\n",
       "    </tr>\n",
       "    <tr>\n",
       "      <th>26</th>\n",
       "      <td>494.0</td>\n",
       "      <td>Capitol Hill Magnet/Rondo</td>\n",
       "      <td>1254.0</td>\n",
       "      <td>53.03</td>\n",
       "      <td>38.28</td>\n",
       "      <td>22.65</td>\n",
       "      <td>24.96</td>\n",
       "      <td>41.87%</td>\n",
       "      <td>10.53%</td>\n",
       "      <td>5.50%</td>\n",
       "      <td>0.32%</td>\n",
       "    </tr>\n",
       "  </tbody>\n",
       "</table>\n",
       "</div>"
      ],
      "text/plain": [
       "      Num                               School  Tot_Enroll  Male%  White%  \\\n",
       "4   425.0           Chelsea Heights Elementary       445.0  52.36   45.62   \n",
       "8   435.0   Expo For Excellence Elementary Sch       663.0  54.75   58.37   \n",
       "14  463.0  L'Etoile Du Nord French Immersion L       173.0  36.42   45.66   \n",
       "25  493.0                   Jj Hill Montessori       406.0  50.00   48.03   \n",
       "26  494.0            Capitol Hill Magnet/Rondo      1254.0  53.03   38.28   \n",
       "\n",
       "    Black%  Asian%    FRP%    ELL%   SPED% Homeless%  \n",
       "4    22.47   12.13  45.17%  19.33%   9.44%     1.35%  \n",
       "8    23.98    3.92  33.63%  12.97%  11.16%     1.06%  \n",
       "14   19.08    6.36  42.20%  18.50%   4.05%     0.00%  \n",
       "25   23.65    7.64  34.48%  21.18%  10.59%     0.00%  \n",
       "26   22.65   24.96  41.87%  10.53%   5.50%     0.32%  "
      ]
     },
     "execution_count": 15,
     "metadata": {},
     "output_type": "execute_result"
    }
   ],
   "source": [
    "Enroll.query('Num in (435,493,494,463,425)')\n"
   ]
  },
  {
   "cell_type": "markdown",
   "metadata": {},
   "source": [
    "#### Reading Data\n",
    "\n",
    "![title](Graphs/R_Elem2.png)"
   ]
  },
  {
   "cell_type": "code",
   "execution_count": null,
   "metadata": {},
   "outputs": [],
   "source": [
    "Reading.query('Num in (435,493,494,463,425)')"
   ]
  },
  {
   "cell_type": "markdown",
   "metadata": {},
   "source": [
    "#### Math Data\n",
    "\n",
    "![title](Graphs/M_Elem2.png)"
   ]
  },
  {
   "cell_type": "code",
   "execution_count": null,
   "metadata": {},
   "outputs": [],
   "source": [
    "Math.query('Num in (435,493,494,463,425)')"
   ]
  },
  {
   "cell_type": "markdown",
   "metadata": {},
   "source": [
    "#### Science Data"
   ]
  },
  {
   "cell_type": "code",
   "execution_count": null,
   "metadata": {},
   "outputs": [],
   "source": [
    "Science.query('Num in (435,493,494,463,425)')"
   ]
  },
  {
   "cell_type": "markdown",
   "metadata": {},
   "source": [
    "## ES <a name=\"elem3\"></a>\n",
    "\n",
    "#### Enroll Data"
   ]
  },
  {
   "cell_type": "code",
   "execution_count": 16,
   "metadata": {},
   "outputs": [
    {
     "data": {
      "text/html": [
       "<div>\n",
       "<style scoped>\n",
       "    .dataframe tbody tr th:only-of-type {\n",
       "        vertical-align: middle;\n",
       "    }\n",
       "\n",
       "    .dataframe tbody tr th {\n",
       "        vertical-align: top;\n",
       "    }\n",
       "\n",
       "    .dataframe thead th {\n",
       "        text-align: right;\n",
       "    }\n",
       "</style>\n",
       "<table border=\"1\" class=\"dataframe\">\n",
       "  <thead>\n",
       "    <tr style=\"text-align: right;\">\n",
       "      <th></th>\n",
       "      <th>Num</th>\n",
       "      <th>School</th>\n",
       "      <th>Tot_Enroll</th>\n",
       "      <th>Male%</th>\n",
       "      <th>White%</th>\n",
       "      <th>Black%</th>\n",
       "      <th>Asian%</th>\n",
       "      <th>FRP%</th>\n",
       "      <th>ELL%</th>\n",
       "      <th>SPED%</th>\n",
       "      <th>Homeless%</th>\n",
       "    </tr>\n",
       "  </thead>\n",
       "  <tbody>\n",
       "    <tr>\n",
       "      <th>0</th>\n",
       "      <td>410.0</td>\n",
       "      <td>Adams Magnet Elementary</td>\n",
       "      <td>616.0</td>\n",
       "      <td>49.19</td>\n",
       "      <td>26.46</td>\n",
       "      <td>15.26</td>\n",
       "      <td>0.32</td>\n",
       "      <td>48.86%</td>\n",
       "      <td>22.08%</td>\n",
       "      <td>6.66%</td>\n",
       "      <td>0.81%</td>\n",
       "    </tr>\n",
       "    <tr>\n",
       "      <th>19</th>\n",
       "      <td>476.0</td>\n",
       "      <td>Groveland Park Elementary</td>\n",
       "      <td>402.0</td>\n",
       "      <td>48.51</td>\n",
       "      <td>44.28</td>\n",
       "      <td>27.86</td>\n",
       "      <td>5.72</td>\n",
       "      <td>51.24%</td>\n",
       "      <td>16.17%</td>\n",
       "      <td>10.95%</td>\n",
       "      <td>0.25%</td>\n",
       "    </tr>\n",
       "    <tr>\n",
       "      <th>33</th>\n",
       "      <td>528.0</td>\n",
       "      <td>Linwood Monroe Arts Plus Upper</td>\n",
       "      <td>472.0</td>\n",
       "      <td>45.55</td>\n",
       "      <td>29.03</td>\n",
       "      <td>32.20</td>\n",
       "      <td>19.28</td>\n",
       "      <td>62.92%</td>\n",
       "      <td>28.81%</td>\n",
       "      <td>20.97%</td>\n",
       "      <td>1.27%</td>\n",
       "    </tr>\n",
       "    <tr>\n",
       "      <th>34</th>\n",
       "      <td>533.0</td>\n",
       "      <td>Nokomis Montessori North Campus</td>\n",
       "      <td>362.0</td>\n",
       "      <td>51.10</td>\n",
       "      <td>22.65</td>\n",
       "      <td>8.56</td>\n",
       "      <td>52.49</td>\n",
       "      <td>58.84%</td>\n",
       "      <td>41.71%</td>\n",
       "      <td>10.77%</td>\n",
       "      <td>1.10%</td>\n",
       "    </tr>\n",
       "    <tr>\n",
       "      <th>35</th>\n",
       "      <td>534.0</td>\n",
       "      <td>Nokomis Montessori South Campus</td>\n",
       "      <td>267.0</td>\n",
       "      <td>56.55</td>\n",
       "      <td>25.84</td>\n",
       "      <td>11.99</td>\n",
       "      <td>41.20</td>\n",
       "      <td>55.81%</td>\n",
       "      <td>34.83%</td>\n",
       "      <td>15.36%</td>\n",
       "      <td>0.00%</td>\n",
       "    </tr>\n",
       "  </tbody>\n",
       "</table>\n",
       "</div>"
      ],
      "text/plain": [
       "      Num                           School  Tot_Enroll  Male%  White%  Black%  \\\n",
       "0   410.0          Adams Magnet Elementary       616.0  49.19   26.46   15.26   \n",
       "19  476.0        Groveland Park Elementary       402.0  48.51   44.28   27.86   \n",
       "33  528.0   Linwood Monroe Arts Plus Upper       472.0  45.55   29.03   32.20   \n",
       "34  533.0  Nokomis Montessori North Campus       362.0  51.10   22.65    8.56   \n",
       "35  534.0  Nokomis Montessori South Campus       267.0  56.55   25.84   11.99   \n",
       "\n",
       "    Asian%    FRP%    ELL%   SPED% Homeless%  \n",
       "0     0.32  48.86%  22.08%   6.66%     0.81%  \n",
       "19    5.72  51.24%  16.17%  10.95%     0.25%  \n",
       "33   19.28  62.92%  28.81%  20.97%     1.27%  \n",
       "34   52.49  58.84%  41.71%  10.77%     1.10%  \n",
       "35   41.20  55.81%  34.83%  15.36%     0.00%  "
      ]
     },
     "execution_count": 16,
     "metadata": {},
     "output_type": "execute_result"
    }
   ],
   "source": [
    "Enroll.query('Num in (410,476,534,533,528)')"
   ]
  },
  {
   "cell_type": "markdown",
   "metadata": {},
   "source": [
    "#### Reading Data\n",
    "\n",
    "![title](Graphs/R_Elem3.png)"
   ]
  },
  {
   "cell_type": "code",
   "execution_count": null,
   "metadata": {},
   "outputs": [],
   "source": [
    "Reading.query('Num in (410,476,534,533,528)')"
   ]
  },
  {
   "cell_type": "markdown",
   "metadata": {},
   "source": [
    "#### Math Data\n",
    "\n",
    "![title](Graphs/M_Elem3.png)"
   ]
  },
  {
   "cell_type": "code",
   "execution_count": null,
   "metadata": {},
   "outputs": [],
   "source": [
    "Math.query('Num in (410,476,534,533,528)')"
   ]
  },
  {
   "cell_type": "markdown",
   "metadata": {},
   "source": [
    "#### Science Data"
   ]
  },
  {
   "cell_type": "code",
   "execution_count": null,
   "metadata": {},
   "outputs": [],
   "source": [
    "Science.query('Num in (410,476,534,533,528)')"
   ]
  },
  {
   "cell_type": "markdown",
   "metadata": {},
   "source": [
    "## ES <a name=\"elem4\"></a>\n",
    "\n",
    "#### Enroll Data"
   ]
  },
  {
   "cell_type": "code",
   "execution_count": 17,
   "metadata": {},
   "outputs": [
    {
     "data": {
      "text/html": [
       "<div>\n",
       "<style scoped>\n",
       "    .dataframe tbody tr th:only-of-type {\n",
       "        vertical-align: middle;\n",
       "    }\n",
       "\n",
       "    .dataframe tbody tr th {\n",
       "        vertical-align: top;\n",
       "    }\n",
       "\n",
       "    .dataframe thead th {\n",
       "        text-align: right;\n",
       "    }\n",
       "</style>\n",
       "<table border=\"1\" class=\"dataframe\">\n",
       "  <thead>\n",
       "    <tr style=\"text-align: right;\">\n",
       "      <th></th>\n",
       "      <th>Num</th>\n",
       "      <th>School</th>\n",
       "      <th>Tot_Enroll</th>\n",
       "      <th>Male%</th>\n",
       "      <th>White%</th>\n",
       "      <th>Black%</th>\n",
       "      <th>Asian%</th>\n",
       "      <th>FRP%</th>\n",
       "      <th>ELL%</th>\n",
       "      <th>SPED%</th>\n",
       "      <th>Homeless%</th>\n",
       "    </tr>\n",
       "  </thead>\n",
       "  <tbody>\n",
       "    <tr>\n",
       "      <th>16</th>\n",
       "      <td>465.0</td>\n",
       "      <td>Crossroads Montessori</td>\n",
       "      <td>259.0</td>\n",
       "      <td>49.81</td>\n",
       "      <td>18.15</td>\n",
       "      <td>30.12</td>\n",
       "      <td>21.24</td>\n",
       "      <td>69.88%</td>\n",
       "      <td>22.01%</td>\n",
       "      <td>10.81%</td>\n",
       "      <td>1.93%</td>\n",
       "    </tr>\n",
       "    <tr>\n",
       "      <th>18</th>\n",
       "      <td>467.0</td>\n",
       "      <td>Galtier Elementary School</td>\n",
       "      <td>196.0</td>\n",
       "      <td>51.02</td>\n",
       "      <td>27.55</td>\n",
       "      <td>33.67</td>\n",
       "      <td>7.65</td>\n",
       "      <td>67.35%</td>\n",
       "      <td>16.84%</td>\n",
       "      <td>11.73%</td>\n",
       "      <td>5.10%</td>\n",
       "    </tr>\n",
       "    <tr>\n",
       "      <th>22</th>\n",
       "      <td>488.0</td>\n",
       "      <td>The Heights Community School</td>\n",
       "      <td>462.0</td>\n",
       "      <td>56.93</td>\n",
       "      <td>9.09</td>\n",
       "      <td>24.46</td>\n",
       "      <td>38.74</td>\n",
       "      <td>69.91%</td>\n",
       "      <td>40.69%</td>\n",
       "      <td>18.40%</td>\n",
       "      <td>1.95%</td>\n",
       "    </tr>\n",
       "    <tr>\n",
       "      <th>24</th>\n",
       "      <td>491.0</td>\n",
       "      <td>Highland Park Elementary</td>\n",
       "      <td>385.0</td>\n",
       "      <td>53.77</td>\n",
       "      <td>27.01</td>\n",
       "      <td>49.87</td>\n",
       "      <td>8.05</td>\n",
       "      <td>66.23%</td>\n",
       "      <td>34.29%</td>\n",
       "      <td>7.27%</td>\n",
       "      <td>1.04%</td>\n",
       "    </tr>\n",
       "    <tr>\n",
       "      <th>29</th>\n",
       "      <td>510.0</td>\n",
       "      <td>Linwood Monroe Arts Plus Lower</td>\n",
       "      <td>396.0</td>\n",
       "      <td>50.51</td>\n",
       "      <td>29.29</td>\n",
       "      <td>20.20</td>\n",
       "      <td>24.49</td>\n",
       "      <td>66.41%</td>\n",
       "      <td>39.14%</td>\n",
       "      <td>19.44%</td>\n",
       "      <td>1.77%</td>\n",
       "    </tr>\n",
       "  </tbody>\n",
       "</table>\n",
       "</div>"
      ],
      "text/plain": [
       "      Num                          School  Tot_Enroll  Male%  White%  Black%  \\\n",
       "16  465.0           Crossroads Montessori       259.0  49.81   18.15   30.12   \n",
       "18  467.0       Galtier Elementary School       196.0  51.02   27.55   33.67   \n",
       "22  488.0    The Heights Community School       462.0  56.93    9.09   24.46   \n",
       "24  491.0        Highland Park Elementary       385.0  53.77   27.01   49.87   \n",
       "29  510.0  Linwood Monroe Arts Plus Lower       396.0  50.51   29.29   20.20   \n",
       "\n",
       "    Asian%    FRP%    ELL%   SPED% Homeless%  \n",
       "16   21.24  69.88%  22.01%  10.81%     1.93%  \n",
       "18    7.65  67.35%  16.84%  11.73%     5.10%  \n",
       "22   38.74  69.91%  40.69%  18.40%     1.95%  \n",
       "24    8.05  66.23%  34.29%   7.27%     1.04%  \n",
       "29   24.49  66.41%  39.14%  19.44%     1.77%  "
      ]
     },
     "execution_count": 17,
     "metadata": {},
     "output_type": "execute_result"
    }
   ],
   "source": [
    "Enroll.query('Num in (491,510,467,465,488)')"
   ]
  },
  {
   "cell_type": "markdown",
   "metadata": {},
   "source": [
    "#### Reading Data\n",
    "\n",
    "![title](Graphs/R_Elem4.png)"
   ]
  },
  {
   "cell_type": "code",
   "execution_count": null,
   "metadata": {},
   "outputs": [],
   "source": [
    "Reading.query('Num in (491,510,467,465,488)')"
   ]
  },
  {
   "cell_type": "markdown",
   "metadata": {},
   "source": [
    "#### Math Data\n",
    "\n",
    "![title](Graphs/M_Elem4.png)"
   ]
  },
  {
   "cell_type": "code",
   "execution_count": null,
   "metadata": {},
   "outputs": [],
   "source": [
    "Math.query('Num in (491,510,467,465,488)')"
   ]
  },
  {
   "cell_type": "markdown",
   "metadata": {},
   "source": [
    "#### Science Data"
   ]
  },
  {
   "cell_type": "code",
   "execution_count": null,
   "metadata": {},
   "outputs": [],
   "source": [
    "Science.query('Num in (491,510,467,465,488)')"
   ]
  },
  {
   "cell_type": "markdown",
   "metadata": {},
   "source": [
    "## ES <a name=\"elem5\"></a>\n",
    "\n",
    "#### Enroll Data"
   ]
  },
  {
   "cell_type": "code",
   "execution_count": 18,
   "metadata": {},
   "outputs": [
    {
     "data": {
      "text/html": [
       "<div>\n",
       "<style scoped>\n",
       "    .dataframe tbody tr th:only-of-type {\n",
       "        vertical-align: middle;\n",
       "    }\n",
       "\n",
       "    .dataframe tbody tr th {\n",
       "        vertical-align: top;\n",
       "    }\n",
       "\n",
       "    .dataframe thead th {\n",
       "        text-align: right;\n",
       "    }\n",
       "</style>\n",
       "<table border=\"1\" class=\"dataframe\">\n",
       "  <thead>\n",
       "    <tr style=\"text-align: right;\">\n",
       "      <th></th>\n",
       "      <th>Num</th>\n",
       "      <th>School</th>\n",
       "      <th>Tot_Enroll</th>\n",
       "      <th>Male%</th>\n",
       "      <th>White%</th>\n",
       "      <th>Black%</th>\n",
       "      <th>Asian%</th>\n",
       "      <th>FRP%</th>\n",
       "      <th>ELL%</th>\n",
       "      <th>SPED%</th>\n",
       "      <th>Homeless%</th>\n",
       "    </tr>\n",
       "  </thead>\n",
       "  <tbody>\n",
       "    <tr>\n",
       "      <th>2</th>\n",
       "      <td>422.0</td>\n",
       "      <td>Battle Creek Elementary School</td>\n",
       "      <td>472.0</td>\n",
       "      <td>54.24</td>\n",
       "      <td>7.20</td>\n",
       "      <td>28.81</td>\n",
       "      <td>43.01</td>\n",
       "      <td>73.31%</td>\n",
       "      <td>41.31%</td>\n",
       "      <td>18.01%</td>\n",
       "      <td>1.27%</td>\n",
       "    </tr>\n",
       "    <tr>\n",
       "      <th>5</th>\n",
       "      <td>428.0</td>\n",
       "      <td>Cherokee Heights Elementary School</td>\n",
       "      <td>215.0</td>\n",
       "      <td>51.63</td>\n",
       "      <td>18.60</td>\n",
       "      <td>21.86</td>\n",
       "      <td>7.44</td>\n",
       "      <td>71.16%</td>\n",
       "      <td>30.23%</td>\n",
       "      <td>20.93%</td>\n",
       "      <td>3.72%</td>\n",
       "    </tr>\n",
       "    <tr>\n",
       "      <th>10</th>\n",
       "      <td>452.0</td>\n",
       "      <td>Eastern Heights Elementary</td>\n",
       "      <td>334.0</td>\n",
       "      <td>54.19</td>\n",
       "      <td>10.18</td>\n",
       "      <td>24.55</td>\n",
       "      <td>41.62</td>\n",
       "      <td>74.55%</td>\n",
       "      <td>46.41%</td>\n",
       "      <td>18.26%</td>\n",
       "      <td>2.40%</td>\n",
       "    </tr>\n",
       "    <tr>\n",
       "      <th>11</th>\n",
       "      <td>458.0</td>\n",
       "      <td>Farnsworth Aerospace Lower</td>\n",
       "      <td>479.0</td>\n",
       "      <td>53.24</td>\n",
       "      <td>6.89</td>\n",
       "      <td>11.69</td>\n",
       "      <td>68.68</td>\n",
       "      <td>72.86%</td>\n",
       "      <td>58.25%</td>\n",
       "      <td>8.35%</td>\n",
       "      <td>1.25%</td>\n",
       "    </tr>\n",
       "    <tr>\n",
       "      <th>20</th>\n",
       "      <td>482.0</td>\n",
       "      <td>Hamline Elementary School</td>\n",
       "      <td>284.0</td>\n",
       "      <td>54.58</td>\n",
       "      <td>17.96</td>\n",
       "      <td>50.70</td>\n",
       "      <td>11.27</td>\n",
       "      <td>73.94%</td>\n",
       "      <td>21.83%</td>\n",
       "      <td>13.03%</td>\n",
       "      <td>3.87%</td>\n",
       "    </tr>\n",
       "  </tbody>\n",
       "</table>\n",
       "</div>"
      ],
      "text/plain": [
       "      Num                              School  Tot_Enroll  Male%  White%  \\\n",
       "2   422.0      Battle Creek Elementary School       472.0  54.24    7.20   \n",
       "5   428.0  Cherokee Heights Elementary School       215.0  51.63   18.60   \n",
       "10  452.0          Eastern Heights Elementary       334.0  54.19   10.18   \n",
       "11  458.0          Farnsworth Aerospace Lower       479.0  53.24    6.89   \n",
       "20  482.0           Hamline Elementary School       284.0  54.58   17.96   \n",
       "\n",
       "    Black%  Asian%    FRP%    ELL%   SPED% Homeless%  \n",
       "2    28.81   43.01  73.31%  41.31%  18.01%     1.27%  \n",
       "5    21.86    7.44  71.16%  30.23%  20.93%     3.72%  \n",
       "10   24.55   41.62  74.55%  46.41%  18.26%     2.40%  \n",
       "11   11.69   68.68  72.86%  58.25%   8.35%     1.25%  \n",
       "20   50.70   11.27  73.94%  21.83%  13.03%     3.87%  "
      ]
     },
     "execution_count": 18,
     "metadata": {},
     "output_type": "execute_result"
    }
   ],
   "source": [
    "Enroll.query('Num in (428,458,422,482,452)')"
   ]
  },
  {
   "cell_type": "markdown",
   "metadata": {},
   "source": [
    "#### Reading Data\n",
    "\n",
    "![title](Graphs/R_Elem5.png)"
   ]
  },
  {
   "cell_type": "code",
   "execution_count": null,
   "metadata": {},
   "outputs": [],
   "source": [
    "Reading.query('Num in (428,458,422,482,452)')"
   ]
  },
  {
   "cell_type": "markdown",
   "metadata": {},
   "source": [
    "#### Math Data\n",
    "\n",
    "![title](Graphs/M_Elem5.png)"
   ]
  },
  {
   "cell_type": "code",
   "execution_count": null,
   "metadata": {},
   "outputs": [],
   "source": [
    "Math.query('Num in (428,458,422,482,452)')"
   ]
  },
  {
   "cell_type": "markdown",
   "metadata": {},
   "source": [
    "#### Science Data"
   ]
  },
  {
   "cell_type": "code",
   "execution_count": null,
   "metadata": {},
   "outputs": [],
   "source": [
    "Science.query('Num in (428,458,422,482,452)')"
   ]
  },
  {
   "cell_type": "markdown",
   "metadata": {},
   "source": [
    "## ES <a name=\"elem6\"></a>\n",
    "\n",
    "#### Enroll Data"
   ]
  },
  {
   "cell_type": "code",
   "execution_count": 19,
   "metadata": {},
   "outputs": [
    {
     "data": {
      "text/html": [
       "<div>\n",
       "<style scoped>\n",
       "    .dataframe tbody tr th:only-of-type {\n",
       "        vertical-align: middle;\n",
       "    }\n",
       "\n",
       "    .dataframe tbody tr th {\n",
       "        vertical-align: top;\n",
       "    }\n",
       "\n",
       "    .dataframe thead th {\n",
       "        text-align: right;\n",
       "    }\n",
       "</style>\n",
       "<table border=\"1\" class=\"dataframe\">\n",
       "  <thead>\n",
       "    <tr style=\"text-align: right;\">\n",
       "      <th></th>\n",
       "      <th>Num</th>\n",
       "      <th>School</th>\n",
       "      <th>Tot_Enroll</th>\n",
       "      <th>Male%</th>\n",
       "      <th>White%</th>\n",
       "      <th>Black%</th>\n",
       "      <th>Asian%</th>\n",
       "      <th>FRP%</th>\n",
       "      <th>ELL%</th>\n",
       "      <th>SPED%</th>\n",
       "      <th>Homeless%</th>\n",
       "    </tr>\n",
       "  </thead>\n",
       "  <tbody>\n",
       "    <tr>\n",
       "      <th>6</th>\n",
       "      <td>431.0</td>\n",
       "      <td>Como Park Elementary</td>\n",
       "      <td>451.0</td>\n",
       "      <td>53.66</td>\n",
       "      <td>11.75</td>\n",
       "      <td>25.50</td>\n",
       "      <td>44.35</td>\n",
       "      <td>77.83%</td>\n",
       "      <td>44.79%</td>\n",
       "      <td>22.84%</td>\n",
       "      <td>1.33%</td>\n",
       "    </tr>\n",
       "    <tr>\n",
       "      <th>12</th>\n",
       "      <td>460.0</td>\n",
       "      <td>Four Seasons Elementary</td>\n",
       "      <td>462.0</td>\n",
       "      <td>47.19</td>\n",
       "      <td>12.77</td>\n",
       "      <td>45.67</td>\n",
       "      <td>16.02</td>\n",
       "      <td>80.09%</td>\n",
       "      <td>34.85%</td>\n",
       "      <td>16.88%</td>\n",
       "      <td>3.46%</td>\n",
       "    </tr>\n",
       "    <tr>\n",
       "      <th>15</th>\n",
       "      <td>464.0</td>\n",
       "      <td>Frost Lake Elementary School</td>\n",
       "      <td>535.0</td>\n",
       "      <td>51.59</td>\n",
       "      <td>5.98</td>\n",
       "      <td>22.06</td>\n",
       "      <td>52.52</td>\n",
       "      <td>76.64%</td>\n",
       "      <td>53.08%</td>\n",
       "      <td>14.77%</td>\n",
       "      <td>0.93%</td>\n",
       "    </tr>\n",
       "    <tr>\n",
       "      <th>17</th>\n",
       "      <td>466.0</td>\n",
       "      <td>Crossroads Science Program</td>\n",
       "      <td>290.0</td>\n",
       "      <td>51.72</td>\n",
       "      <td>9.66</td>\n",
       "      <td>44.83</td>\n",
       "      <td>26.90</td>\n",
       "      <td>76.21%</td>\n",
       "      <td>29.66%</td>\n",
       "      <td>15.17%</td>\n",
       "      <td>1.03%</td>\n",
       "    </tr>\n",
       "    <tr>\n",
       "      <th>38</th>\n",
       "      <td>551.0</td>\n",
       "      <td>Riverview West School Of Excellence</td>\n",
       "      <td>391.0</td>\n",
       "      <td>51.41</td>\n",
       "      <td>7.67</td>\n",
       "      <td>20.20</td>\n",
       "      <td>3.58</td>\n",
       "      <td>76.73%</td>\n",
       "      <td>50.38%</td>\n",
       "      <td>12.02%</td>\n",
       "      <td>1.28%</td>\n",
       "    </tr>\n",
       "  </tbody>\n",
       "</table>\n",
       "</div>"
      ],
      "text/plain": [
       "      Num                               School  Tot_Enroll  Male%  White%  \\\n",
       "6   431.0                 Como Park Elementary       451.0  53.66   11.75   \n",
       "12  460.0              Four Seasons Elementary       462.0  47.19   12.77   \n",
       "15  464.0         Frost Lake Elementary School       535.0  51.59    5.98   \n",
       "17  466.0           Crossroads Science Program       290.0  51.72    9.66   \n",
       "38  551.0  Riverview West School Of Excellence       391.0  51.41    7.67   \n",
       "\n",
       "    Black%  Asian%    FRP%    ELL%   SPED% Homeless%  \n",
       "6    25.50   44.35  77.83%  44.79%  22.84%     1.33%  \n",
       "12   45.67   16.02  80.09%  34.85%  16.88%     3.46%  \n",
       "15   22.06   52.52  76.64%  53.08%  14.77%     0.93%  \n",
       "17   44.83   26.90  76.21%  29.66%  15.17%     1.03%  \n",
       "38   20.20    3.58  76.73%  50.38%  12.02%     1.28%  "
      ]
     },
     "execution_count": 19,
     "metadata": {},
     "output_type": "execute_result"
    }
   ],
   "source": [
    "Enroll.query('Num in (466,464,551,431,460)')"
   ]
  },
  {
   "cell_type": "markdown",
   "metadata": {},
   "source": [
    "#### Reading Data\n",
    "\n",
    "![title](Graphs/R_Elem6.png)"
   ]
  },
  {
   "cell_type": "code",
   "execution_count": null,
   "metadata": {},
   "outputs": [],
   "source": [
    "Reading.query('Num in (466,464,551,431,460)')"
   ]
  },
  {
   "cell_type": "markdown",
   "metadata": {},
   "source": [
    "#### Math Data\n",
    "\n",
    "![title](Graphs/M_Elem6.png)"
   ]
  },
  {
   "cell_type": "code",
   "execution_count": null,
   "metadata": {},
   "outputs": [],
   "source": [
    "Math.query('Num in (466,464,551,431,460)')"
   ]
  },
  {
   "cell_type": "markdown",
   "metadata": {},
   "source": [
    "#### Science Data"
   ]
  },
  {
   "cell_type": "code",
   "execution_count": null,
   "metadata": {},
   "outputs": [],
   "source": [
    "Science.query('Num in (466,464,551,431,460)')"
   ]
  },
  {
   "cell_type": "markdown",
   "metadata": {},
   "source": [
    "## ES <a name=\"elem7\"></a>\n",
    "\n",
    "#### Enroll Data"
   ]
  },
  {
   "cell_type": "code",
   "execution_count": null,
   "metadata": {},
   "outputs": [],
   "source": [
    "Enroll.query('Num in (500,541,424,524,433)')"
   ]
  },
  {
   "cell_type": "markdown",
   "metadata": {},
   "source": [
    "#### Reading Data\n",
    "\n",
    "![title](Graphs/R_Elem7.png)"
   ]
  },
  {
   "cell_type": "code",
   "execution_count": null,
   "metadata": {},
   "outputs": [],
   "source": [
    "Reading.query('Num in (500,541,424,524,433)')"
   ]
  },
  {
   "cell_type": "markdown",
   "metadata": {},
   "source": [
    "#### Math Data\n",
    "\n",
    "![title](Graphs/M_Elem7.png)"
   ]
  },
  {
   "cell_type": "code",
   "execution_count": null,
   "metadata": {},
   "outputs": [],
   "source": [
    "Math.query('Num in (500,541,424,524,433)')"
   ]
  },
  {
   "cell_type": "markdown",
   "metadata": {},
   "source": [
    "#### Science Data"
   ]
  },
  {
   "cell_type": "code",
   "execution_count": null,
   "metadata": {},
   "outputs": [],
   "source": [
    "Science.query('Num in (500,541,424,524,433)')"
   ]
  },
  {
   "cell_type": "markdown",
   "metadata": {},
   "source": [
    "## ES <a name=\"elem8\"></a>\n",
    "\n",
    "#### Enroll Data"
   ]
  },
  {
   "cell_type": "code",
   "execution_count": null,
   "metadata": {},
   "outputs": [],
   "source": [
    "Enroll.query('Num in (579,552,496,578,527)')"
   ]
  },
  {
   "cell_type": "markdown",
   "metadata": {},
   "source": [
    "#### Reading Data\n",
    "\n",
    "![title](Graphs/R_Elem8.png)"
   ]
  },
  {
   "cell_type": "code",
   "execution_count": null,
   "metadata": {},
   "outputs": [],
   "source": [
    "Reading.query('Num in (579,552,496,578,527)')"
   ]
  },
  {
   "cell_type": "markdown",
   "metadata": {},
   "source": [
    "#### Math Data\n",
    "\n",
    "![title](Graphs/M_Elem8.png)"
   ]
  },
  {
   "cell_type": "code",
   "execution_count": null,
   "metadata": {},
   "outputs": [],
   "source": [
    "Math.query('Num in (579,552,496,578,527)')"
   ]
  },
  {
   "cell_type": "markdown",
   "metadata": {},
   "source": [
    "#### Science Data"
   ]
  },
  {
   "cell_type": "code",
   "execution_count": null,
   "metadata": {},
   "outputs": [],
   "source": [
    "Science.query('Num in (579,552,496,578,527)')"
   ]
  },
  {
   "cell_type": "markdown",
   "metadata": {},
   "source": [
    "## ES <a name=\"elem9\"></a>\n",
    "\n",
    "#### Enroll Data"
   ]
  },
  {
   "cell_type": "code",
   "execution_count": null,
   "metadata": {},
   "outputs": [],
   "source": [
    "Enroll.query('Num in (415,484,558,449)')"
   ]
  },
  {
   "cell_type": "markdown",
   "metadata": {},
   "source": [
    "#### Reading Data\n",
    "\n",
    "![title](Graphs/R_Elem9.png)"
   ]
  },
  {
   "cell_type": "code",
   "execution_count": null,
   "metadata": {},
   "outputs": [],
   "source": [
    "Reading.query('Num in (415,484,558,449)')"
   ]
  },
  {
   "cell_type": "markdown",
   "metadata": {},
   "source": [
    "#### Math Data\n",
    "\n",
    "![title](Graphs/M_Elem9.png)"
   ]
  },
  {
   "cell_type": "code",
   "execution_count": null,
   "metadata": {},
   "outputs": [],
   "source": [
    "Math.query('Num in (415,484,558,449)')"
   ]
  },
  {
   "cell_type": "markdown",
   "metadata": {},
   "source": [
    "#### Science Data"
   ]
  },
  {
   "cell_type": "code",
   "execution_count": null,
   "metadata": {},
   "outputs": [],
   "source": [
    "Science.query('Num in (415,484,558,449)')"
   ]
  },
  {
   "cell_type": "markdown",
   "metadata": {},
   "source": [
    "# Intermediate Schools: District/State Level <a name=\"int\"></a>\n",
    "\n",
    "#### Reading Data"
   ]
  },
  {
   "cell_type": "code",
   "execution_count": 11,
   "metadata": {},
   "outputs": [
    {
     "data": {
      "text/html": [
       "<div>\n",
       "<style scoped>\n",
       "    .dataframe tbody tr th:only-of-type {\n",
       "        vertical-align: middle;\n",
       "    }\n",
       "\n",
       "    .dataframe tbody tr th {\n",
       "        vertical-align: top;\n",
       "    }\n",
       "\n",
       "    .dataframe thead th {\n",
       "        text-align: right;\n",
       "    }\n",
       "</style>\n",
       "<table border=\"1\" class=\"dataframe\">\n",
       "  <thead>\n",
       "    <tr style=\"text-align: right;\">\n",
       "      <th></th>\n",
       "      <th>School</th>\n",
       "      <th>Num</th>\n",
       "      <th>Grade</th>\n",
       "      <th>Prof</th>\n",
       "      <th>White_Prof</th>\n",
       "      <th>POC_Prof</th>\n",
       "      <th>Black_Prof</th>\n",
       "      <th>Male_Prof</th>\n",
       "      <th>Female_Prof</th>\n",
       "      <th>FRPL_Prof</th>\n",
       "      <th>NonFRPL_Prof</th>\n",
       "    </tr>\n",
       "  </thead>\n",
       "  <tbody>\n",
       "    <tr>\n",
       "      <th>161</th>\n",
       "      <td>District_All</td>\n",
       "      <td>0.0</td>\n",
       "      <td>3.0</td>\n",
       "      <td>0.3525</td>\n",
       "      <td>0.6891</td>\n",
       "      <td>0.2558</td>\n",
       "      <td>0.2270</td>\n",
       "      <td>0.3281</td>\n",
       "      <td>0.3768</td>\n",
       "      <td>0.2162</td>\n",
       "      <td>0.6019</td>\n",
       "    </tr>\n",
       "    <tr>\n",
       "      <th>162</th>\n",
       "      <td>District_All</td>\n",
       "      <td>0.0</td>\n",
       "      <td>4.0</td>\n",
       "      <td>0.3463</td>\n",
       "      <td>0.7038</td>\n",
       "      <td>0.2547</td>\n",
       "      <td>0.1975</td>\n",
       "      <td>0.3293</td>\n",
       "      <td>0.3646</td>\n",
       "      <td>0.2267</td>\n",
       "      <td>0.5962</td>\n",
       "    </tr>\n",
       "    <tr>\n",
       "      <th>163</th>\n",
       "      <td>District_All</td>\n",
       "      <td>0.0</td>\n",
       "      <td>5.0</td>\n",
       "      <td>0.4658</td>\n",
       "      <td>0.7725</td>\n",
       "      <td>0.3833</td>\n",
       "      <td>0.3072</td>\n",
       "      <td>0.4259</td>\n",
       "      <td>0.5066</td>\n",
       "      <td>0.3407</td>\n",
       "      <td>0.7223</td>\n",
       "    </tr>\n",
       "    <tr>\n",
       "      <th>164</th>\n",
       "      <td>District_All</td>\n",
       "      <td>0.0</td>\n",
       "      <td>6.0</td>\n",
       "      <td>0.3847</td>\n",
       "      <td>0.7359</td>\n",
       "      <td>0.3013</td>\n",
       "      <td>0.2708</td>\n",
       "      <td>0.3539</td>\n",
       "      <td>0.4189</td>\n",
       "      <td>0.2689</td>\n",
       "      <td>0.6507</td>\n",
       "    </tr>\n",
       "    <tr>\n",
       "      <th>165</th>\n",
       "      <td>District_All</td>\n",
       "      <td>0.0</td>\n",
       "      <td>7.0</td>\n",
       "      <td>0.3716</td>\n",
       "      <td>0.7137</td>\n",
       "      <td>0.2890</td>\n",
       "      <td>0.2188</td>\n",
       "      <td>0.3336</td>\n",
       "      <td>0.4129</td>\n",
       "      <td>0.2640</td>\n",
       "      <td>0.6129</td>\n",
       "    </tr>\n",
       "    <tr>\n",
       "      <th>166</th>\n",
       "      <td>District_All</td>\n",
       "      <td>0.0</td>\n",
       "      <td>8.0</td>\n",
       "      <td>0.3918</td>\n",
       "      <td>0.7479</td>\n",
       "      <td>0.2987</td>\n",
       "      <td>0.2288</td>\n",
       "      <td>0.3644</td>\n",
       "      <td>0.4213</td>\n",
       "      <td>0.2780</td>\n",
       "      <td>0.6347</td>\n",
       "    </tr>\n",
       "    <tr>\n",
       "      <th>167</th>\n",
       "      <td>District_All</td>\n",
       "      <td>0.0</td>\n",
       "      <td>10.0</td>\n",
       "      <td>0.4586</td>\n",
       "      <td>0.7739</td>\n",
       "      <td>0.3704</td>\n",
       "      <td>0.2714</td>\n",
       "      <td>0.4244</td>\n",
       "      <td>0.4929</td>\n",
       "      <td>0.3416</td>\n",
       "      <td>0.6713</td>\n",
       "    </tr>\n",
       "    <tr>\n",
       "      <th>168</th>\n",
       "      <td>State_All</td>\n",
       "      <td>0.0</td>\n",
       "      <td>3.0</td>\n",
       "      <td>0.5461</td>\n",
       "      <td>0.6366</td>\n",
       "      <td>0.3847</td>\n",
       "      <td>0.3242</td>\n",
       "      <td>0.5163</td>\n",
       "      <td>0.5771</td>\n",
       "      <td>0.3555</td>\n",
       "      <td>0.6720</td>\n",
       "    </tr>\n",
       "    <tr>\n",
       "      <th>169</th>\n",
       "      <td>State_All</td>\n",
       "      <td>0.0</td>\n",
       "      <td>4.0</td>\n",
       "      <td>0.5543</td>\n",
       "      <td>0.6534</td>\n",
       "      <td>0.3805</td>\n",
       "      <td>0.3072</td>\n",
       "      <td>0.5257</td>\n",
       "      <td>0.5846</td>\n",
       "      <td>0.3568</td>\n",
       "      <td>0.6860</td>\n",
       "    </tr>\n",
       "    <tr>\n",
       "      <th>170</th>\n",
       "      <td>State_All</td>\n",
       "      <td>0.0</td>\n",
       "      <td>5.0</td>\n",
       "      <td>0.6577</td>\n",
       "      <td>0.7492</td>\n",
       "      <td>0.4919</td>\n",
       "      <td>0.4179</td>\n",
       "      <td>0.6263</td>\n",
       "      <td>0.6903</td>\n",
       "      <td>0.4741</td>\n",
       "      <td>0.7798</td>\n",
       "    </tr>\n",
       "    <tr>\n",
       "      <th>171</th>\n",
       "      <td>State_All</td>\n",
       "      <td>0.0</td>\n",
       "      <td>6.0</td>\n",
       "      <td>0.6281</td>\n",
       "      <td>0.7206</td>\n",
       "      <td>0.4581</td>\n",
       "      <td>0.3805</td>\n",
       "      <td>0.5949</td>\n",
       "      <td>0.6626</td>\n",
       "      <td>0.4376</td>\n",
       "      <td>0.7502</td>\n",
       "    </tr>\n",
       "    <tr>\n",
       "      <th>172</th>\n",
       "      <td>State_All</td>\n",
       "      <td>0.0</td>\n",
       "      <td>7.0</td>\n",
       "      <td>0.5749</td>\n",
       "      <td>0.6578</td>\n",
       "      <td>0.4138</td>\n",
       "      <td>0.3201</td>\n",
       "      <td>0.5349</td>\n",
       "      <td>0.6170</td>\n",
       "      <td>0.3804</td>\n",
       "      <td>0.6913</td>\n",
       "    </tr>\n",
       "    <tr>\n",
       "      <th>173</th>\n",
       "      <td>State_All</td>\n",
       "      <td>0.0</td>\n",
       "      <td>8.0</td>\n",
       "      <td>0.5771</td>\n",
       "      <td>0.6544</td>\n",
       "      <td>0.4221</td>\n",
       "      <td>0.3308</td>\n",
       "      <td>0.5209</td>\n",
       "      <td>0.6357</td>\n",
       "      <td>0.3820</td>\n",
       "      <td>0.6877</td>\n",
       "    </tr>\n",
       "    <tr>\n",
       "      <th>174</th>\n",
       "      <td>State_All</td>\n",
       "      <td>0.0</td>\n",
       "      <td>10.0</td>\n",
       "      <td>0.6040</td>\n",
       "      <td>0.6712</td>\n",
       "      <td>0.4460</td>\n",
       "      <td>0.3413</td>\n",
       "      <td>0.5560</td>\n",
       "      <td>0.6544</td>\n",
       "      <td>0.4095</td>\n",
       "      <td>0.6959</td>\n",
       "    </tr>\n",
       "  </tbody>\n",
       "</table>\n",
       "</div>"
      ],
      "text/plain": [
       "           School  Num  Grade    Prof  White_Prof  POC_Prof  Black_Prof  \\\n",
       "161  District_All  0.0    3.0  0.3525      0.6891    0.2558      0.2270   \n",
       "162  District_All  0.0    4.0  0.3463      0.7038    0.2547      0.1975   \n",
       "163  District_All  0.0    5.0  0.4658      0.7725    0.3833      0.3072   \n",
       "164  District_All  0.0    6.0  0.3847      0.7359    0.3013      0.2708   \n",
       "165  District_All  0.0    7.0  0.3716      0.7137    0.2890      0.2188   \n",
       "166  District_All  0.0    8.0  0.3918      0.7479    0.2987      0.2288   \n",
       "167  District_All  0.0   10.0  0.4586      0.7739    0.3704      0.2714   \n",
       "168     State_All  0.0    3.0  0.5461      0.6366    0.3847      0.3242   \n",
       "169     State_All  0.0    4.0  0.5543      0.6534    0.3805      0.3072   \n",
       "170     State_All  0.0    5.0  0.6577      0.7492    0.4919      0.4179   \n",
       "171     State_All  0.0    6.0  0.6281      0.7206    0.4581      0.3805   \n",
       "172     State_All  0.0    7.0  0.5749      0.6578    0.4138      0.3201   \n",
       "173     State_All  0.0    8.0  0.5771      0.6544    0.4221      0.3308   \n",
       "174     State_All  0.0   10.0  0.6040      0.6712    0.4460      0.3413   \n",
       "\n",
       "     Male_Prof  Female_Prof  FRPL_Prof  NonFRPL_Prof  \n",
       "161     0.3281       0.3768     0.2162        0.6019  \n",
       "162     0.3293       0.3646     0.2267        0.5962  \n",
       "163     0.4259       0.5066     0.3407        0.7223  \n",
       "164     0.3539       0.4189     0.2689        0.6507  \n",
       "165     0.3336       0.4129     0.2640        0.6129  \n",
       "166     0.3644       0.4213     0.2780        0.6347  \n",
       "167     0.4244       0.4929     0.3416        0.6713  \n",
       "168     0.5163       0.5771     0.3555        0.6720  \n",
       "169     0.5257       0.5846     0.3568        0.6860  \n",
       "170     0.6263       0.6903     0.4741        0.7798  \n",
       "171     0.5949       0.6626     0.4376        0.7502  \n",
       "172     0.5349       0.6170     0.3804        0.6913  \n",
       "173     0.5209       0.6357     0.3820        0.6877  \n",
       "174     0.5560       0.6544     0.4095        0.6959  "
      ]
     },
     "execution_count": 11,
     "metadata": {},
     "output_type": "execute_result"
    }
   ],
   "source": [
    "Reading.query('Num==0 and Grade in (6,7,8)'"
   ]
  },
  {
   "cell_type": "markdown",
   "metadata": {},
   "source": [
    "#### Math Data"
   ]
  },
  {
   "cell_type": "code",
   "execution_count": null,
   "metadata": {},
   "outputs": [],
   "source": [
    "Math.query('Num==0 and Grade in (6,7,8)')\n"
   ]
  },
  {
   "cell_type": "markdown",
   "metadata": {},
   "source": [
    "#### Science Data"
   ]
  },
  {
   "cell_type": "code",
   "execution_count": null,
   "metadata": {},
   "outputs": [],
   "source": [
    "Science.query('Num==0 and Grade in (6,7,8)')"
   ]
  },
  {
   "cell_type": "markdown",
   "metadata": {},
   "source": [
    "## MS <a name=\"int1\"></a>\n",
    "\n",
    "#### Enroll Data"
   ]
  },
  {
   "cell_type": "code",
   "execution_count": null,
   "metadata": {},
   "outputs": [],
   "source": [
    "Enroll.query('Num in (330,342,345)')"
   ]
  },
  {
   "cell_type": "markdown",
   "metadata": {},
   "source": [
    "#### Reading Data"
   ]
  },
  {
   "cell_type": "code",
   "execution_count": null,
   "metadata": {},
   "outputs": [],
   "source": [
    "Reading.query('Num in (330,342,345)')"
   ]
  },
  {
   "cell_type": "markdown",
   "metadata": {},
   "source": [
    "#### Math Data"
   ]
  },
  {
   "cell_type": "code",
   "execution_count": null,
   "metadata": {},
   "outputs": [],
   "source": [
    "Math.query('Num in (330,342,345)')"
   ]
  },
  {
   "cell_type": "markdown",
   "metadata": {},
   "source": [
    "#### Science Data"
   ]
  },
  {
   "cell_type": "code",
   "execution_count": null,
   "metadata": {},
   "outputs": [],
   "source": [
    "Science.query('Num in (330,342,345)')"
   ]
  },
  {
   "cell_type": "markdown",
   "metadata": {},
   "source": [
    "## MS <a name=\"int2\"></a>\n",
    "\n",
    "#### Enroll Data"
   ]
  },
  {
   "cell_type": "code",
   "execution_count": null,
   "metadata": {},
   "outputs": [],
   "source": [
    "Enroll.query('Num in (344,315,310)')"
   ]
  },
  {
   "cell_type": "markdown",
   "metadata": {},
   "source": [
    "#### Reading Data"
   ]
  },
  {
   "cell_type": "code",
   "execution_count": null,
   "metadata": {},
   "outputs": [],
   "source": [
    "Reading.query('Num in (344,315,310)')"
   ]
  },
  {
   "cell_type": "markdown",
   "metadata": {},
   "source": [
    "#### Math Data"
   ]
  },
  {
   "cell_type": "code",
   "execution_count": null,
   "metadata": {},
   "outputs": [],
   "source": [
    "Math.query('Num in (344,315,310)')"
   ]
  },
  {
   "cell_type": "markdown",
   "metadata": {},
   "source": [
    "#### Science Data"
   ]
  },
  {
   "cell_type": "code",
   "execution_count": null,
   "metadata": {},
   "outputs": [],
   "source": [
    "Science.query('Num in (344,315,310)')"
   ]
  },
  {
   "cell_type": "markdown",
   "metadata": {},
   "source": [
    "# High Schools: District/State Level <a name=\"high\"></a>\n",
    "\n",
    "#### Reading Data"
   ]
  },
  {
   "cell_type": "code",
   "execution_count": null,
   "metadata": {},
   "outputs": [],
   "source": [
    "Reading.query('Num==0 and Grade in (9,10,11,12)')"
   ]
  },
  {
   "cell_type": "markdown",
   "metadata": {},
   "source": [
    "#### Math Data"
   ]
  },
  {
   "cell_type": "code",
   "execution_count": null,
   "metadata": {},
   "outputs": [],
   "source": [
    "Math.query('Num==0 and Grade in (9,10,11,12)')"
   ]
  },
  {
   "cell_type": "markdown",
   "metadata": {},
   "source": [
    "#### Science Data"
   ]
  },
  {
   "cell_type": "code",
   "execution_count": null,
   "metadata": {},
   "outputs": [],
   "source": [
    "Science.query('Num==0 and Grade in (9,10,11,12)')"
   ]
  },
  {
   "cell_type": "markdown",
   "metadata": {},
   "source": [
    "## HS <a name=\"high1\"></a>\n",
    "\n",
    "#### Enroll Data"
   ]
  },
  {
   "cell_type": "code",
   "execution_count": null,
   "metadata": {},
   "outputs": [],
   "source": [
    "Enroll.query('Num in (220,210,212)')"
   ]
  },
  {
   "cell_type": "markdown",
   "metadata": {},
   "source": [
    "#### Reading Data"
   ]
  },
  {
   "cell_type": "code",
   "execution_count": null,
   "metadata": {},
   "outputs": [],
   "source": [
    "Reading.query('Num in (220,210,212)')"
   ]
  },
  {
   "cell_type": "markdown",
   "metadata": {},
   "source": [
    "#### Math Data"
   ]
  },
  {
   "cell_type": "code",
   "execution_count": null,
   "metadata": {},
   "outputs": [],
   "source": [
    "Math.query('Num in (220,210,212)')"
   ]
  },
  {
   "cell_type": "markdown",
   "metadata": {},
   "source": [
    "#### Science Data"
   ]
  },
  {
   "cell_type": "code",
   "execution_count": null,
   "metadata": {},
   "outputs": [],
   "source": [
    "Science.query('Num in (220,210,212)')"
   ]
  },
  {
   "cell_type": "markdown",
   "metadata": {},
   "source": [
    "## HS <a name=\"high2\"></a>\n",
    "\n",
    "#### Enroll Data"
   ]
  },
  {
   "cell_type": "code",
   "execution_count": null,
   "metadata": {},
   "outputs": [],
   "source": [
    "Enroll.query('Num in (215,230)')"
   ]
  },
  {
   "cell_type": "markdown",
   "metadata": {},
   "source": [
    "#### Reading Data"
   ]
  },
  {
   "cell_type": "code",
   "execution_count": null,
   "metadata": {},
   "outputs": [],
   "source": [
    "Reading.query('Num in (215,230)')"
   ]
  },
  {
   "cell_type": "markdown",
   "metadata": {},
   "source": [
    "#### Math Data"
   ]
  },
  {
   "cell_type": "code",
   "execution_count": null,
   "metadata": {},
   "outputs": [],
   "source": [
    "Math.query('Num in (215,230)')"
   ]
  },
  {
   "cell_type": "markdown",
   "metadata": {},
   "source": [
    "#### Science Data"
   ]
  },
  {
   "cell_type": "code",
   "execution_count": null,
   "metadata": {},
   "outputs": [],
   "source": [
    "Science.query('Num in (215,130)')\n"
   ]
  },
  {
   "cell_type": "code",
   "execution_count": null,
   "metadata": {},
   "outputs": [],
   "source": []
  },
  {
   "cell_type": "code",
   "execution_count": 4,
   "metadata": {},
   "outputs": [],
   "source": [
    "#Run Code\n",
    "import pandas as pd\n",
    "import numpy as np\n",
    "import warnings\n",
    "warnings.filterwarnings('ignore')\n",
    "import matplotlib as mpl\n",
    "import matplotlib.pyplot as plt\n",
    "%matplotlib inline \n",
    "import requests # library to handle requests\n",
    "import folium\n",
    "import seaborn as sns\n",
    "import scipy.stats as stats #used to get correlation coefficient\n",
    "\n",
    "#load data\n",
    "Enroll= pd.read_csv('SPEnrollment.csv')\n",
    "Math= pd.read_csv('SPMath.csv')\n",
    "Reading= pd.read_csv('SPReading.csv')\n",
    "Science= pd.read_csv('SPScience.csv')\n",
    "\n"
   ]
  },
  {
   "cell_type": "code",
   "execution_count": 7,
   "metadata": {},
   "outputs": [
    {
     "data": {
      "text/html": [
       "<div>\n",
       "<style scoped>\n",
       "    .dataframe tbody tr th:only-of-type {\n",
       "        vertical-align: middle;\n",
       "    }\n",
       "\n",
       "    .dataframe tbody tr th {\n",
       "        vertical-align: top;\n",
       "    }\n",
       "\n",
       "    .dataframe thead th {\n",
       "        text-align: right;\n",
       "    }\n",
       "</style>\n",
       "<table border=\"1\" class=\"dataframe\">\n",
       "  <thead>\n",
       "    <tr style=\"text-align: right;\">\n",
       "      <th></th>\n",
       "      <th>School</th>\n",
       "      <th>Num</th>\n",
       "      <th>Grade</th>\n",
       "      <th>Prof</th>\n",
       "      <th>White_Prof</th>\n",
       "      <th>POC_Prof</th>\n",
       "      <th>Black_Prof</th>\n",
       "      <th>Male_Prof</th>\n",
       "      <th>Female_Prof</th>\n",
       "      <th>FRPL_Prof</th>\n",
       "      <th>NonFRPL_Prof</th>\n",
       "    </tr>\n",
       "  </thead>\n",
       "  <tbody>\n",
       "    <tr>\n",
       "      <th>38</th>\n",
       "      <td>L'Etoile Du Nord French Immersion U</td>\n",
       "      <td>462.0</td>\n",
       "      <td>3.0</td>\n",
       "      <td>0.6230</td>\n",
       "      <td>0.7857</td>\n",
       "      <td>0.4848</td>\n",
       "      <td>0.6923</td>\n",
       "      <td>0.6957</td>\n",
       "      <td>0.5789</td>\n",
       "      <td>0.4286</td>\n",
       "      <td>0.6809</td>\n",
       "    </tr>\n",
       "    <tr>\n",
       "      <th>39</th>\n",
       "      <td>L'Etoile Du Nord French Immersion U</td>\n",
       "      <td>462.0</td>\n",
       "      <td>4.0</td>\n",
       "      <td>0.6000</td>\n",
       "      <td>0.8571</td>\n",
       "      <td>0.2400</td>\n",
       "      <td>0.2857</td>\n",
       "      <td>0.5385</td>\n",
       "      <td>0.6471</td>\n",
       "      <td>0.3500</td>\n",
       "      <td>0.7250</td>\n",
       "    </tr>\n",
       "    <tr>\n",
       "      <th>40</th>\n",
       "      <td>L'Etoile Du Nord French Immersion U</td>\n",
       "      <td>462.0</td>\n",
       "      <td>5.0</td>\n",
       "      <td>0.7125</td>\n",
       "      <td>0.8250</td>\n",
       "      <td>0.6000</td>\n",
       "      <td>0.7333</td>\n",
       "      <td>0.7407</td>\n",
       "      <td>0.6981</td>\n",
       "      <td>0.4583</td>\n",
       "      <td>0.8214</td>\n",
       "    </tr>\n",
       "    <tr>\n",
       "      <th>59</th>\n",
       "      <td>Jie Ming Mandarin Immersion Academy</td>\n",
       "      <td>483.0</td>\n",
       "      <td>3.0</td>\n",
       "      <td>0.9032</td>\n",
       "      <td>NaN</td>\n",
       "      <td>NaN</td>\n",
       "      <td>NaN</td>\n",
       "      <td>0.8462</td>\n",
       "      <td>0.9444</td>\n",
       "      <td>NaN</td>\n",
       "      <td>0.9259</td>\n",
       "    </tr>\n",
       "    <tr>\n",
       "      <th>60</th>\n",
       "      <td>Jie Ming Mandarin Immersion Academy</td>\n",
       "      <td>483.0</td>\n",
       "      <td>4.0</td>\n",
       "      <td>1.0000</td>\n",
       "      <td>NaN</td>\n",
       "      <td>NaN</td>\n",
       "      <td>NaN</td>\n",
       "      <td>1.0000</td>\n",
       "      <td>1.0000</td>\n",
       "      <td>NaN</td>\n",
       "      <td>1.0000</td>\n",
       "    </tr>\n",
       "    <tr>\n",
       "      <th>61</th>\n",
       "      <td>Jie Ming Mandarin Immersion Academy</td>\n",
       "      <td>483.0</td>\n",
       "      <td>5.0</td>\n",
       "      <td>0.8571</td>\n",
       "      <td>NaN</td>\n",
       "      <td>NaN</td>\n",
       "      <td>NaN</td>\n",
       "      <td>NaN</td>\n",
       "      <td>0.8462</td>\n",
       "      <td>NaN</td>\n",
       "      <td>0.9286</td>\n",
       "    </tr>\n",
       "    <tr>\n",
       "      <th>91</th>\n",
       "      <td>Horace Mann School</td>\n",
       "      <td>518.0</td>\n",
       "      <td>3.0</td>\n",
       "      <td>0.8421</td>\n",
       "      <td>0.9070</td>\n",
       "      <td>0.6429</td>\n",
       "      <td>NaN</td>\n",
       "      <td>0.7727</td>\n",
       "      <td>0.8857</td>\n",
       "      <td>NaN</td>\n",
       "      <td>0.9000</td>\n",
       "    </tr>\n",
       "    <tr>\n",
       "      <th>92</th>\n",
       "      <td>Horace Mann School</td>\n",
       "      <td>518.0</td>\n",
       "      <td>4.0</td>\n",
       "      <td>0.7869</td>\n",
       "      <td>0.9000</td>\n",
       "      <td>0.5714</td>\n",
       "      <td>NaN</td>\n",
       "      <td>0.7429</td>\n",
       "      <td>0.8462</td>\n",
       "      <td>0.4615</td>\n",
       "      <td>0.8750</td>\n",
       "    </tr>\n",
       "    <tr>\n",
       "      <th>93</th>\n",
       "      <td>Horace Mann School</td>\n",
       "      <td>518.0</td>\n",
       "      <td>5.0</td>\n",
       "      <td>0.5769</td>\n",
       "      <td>0.6667</td>\n",
       "      <td>0.4074</td>\n",
       "      <td>0.2000</td>\n",
       "      <td>0.6000</td>\n",
       "      <td>0.5455</td>\n",
       "      <td>0.2222</td>\n",
       "      <td>0.6833</td>\n",
       "    </tr>\n",
       "    <tr>\n",
       "      <th>113</th>\n",
       "      <td>Randolph Heights Elementary</td>\n",
       "      <td>545.0</td>\n",
       "      <td>3.0</td>\n",
       "      <td>0.8333</td>\n",
       "      <td>0.9615</td>\n",
       "      <td>0.5769</td>\n",
       "      <td>0.4167</td>\n",
       "      <td>0.7500</td>\n",
       "      <td>0.9048</td>\n",
       "      <td>0.5926</td>\n",
       "      <td>0.9608</td>\n",
       "    </tr>\n",
       "    <tr>\n",
       "      <th>114</th>\n",
       "      <td>Randolph Heights Elementary</td>\n",
       "      <td>545.0</td>\n",
       "      <td>4.0</td>\n",
       "      <td>0.7826</td>\n",
       "      <td>0.8889</td>\n",
       "      <td>0.5833</td>\n",
       "      <td>NaN</td>\n",
       "      <td>0.7949</td>\n",
       "      <td>0.7667</td>\n",
       "      <td>0.3500</td>\n",
       "      <td>0.9592</td>\n",
       "    </tr>\n",
       "    <tr>\n",
       "      <th>115</th>\n",
       "      <td>Randolph Heights Elementary</td>\n",
       "      <td>545.0</td>\n",
       "      <td>5.0</td>\n",
       "      <td>0.6418</td>\n",
       "      <td>0.7250</td>\n",
       "      <td>0.5185</td>\n",
       "      <td>NaN</td>\n",
       "      <td>0.6774</td>\n",
       "      <td>0.6111</td>\n",
       "      <td>0.5238</td>\n",
       "      <td>0.6957</td>\n",
       "    </tr>\n",
       "    <tr>\n",
       "      <th>122</th>\n",
       "      <td>St. Anthony Park Elementary</td>\n",
       "      <td>557.0</td>\n",
       "      <td>3.0</td>\n",
       "      <td>0.6627</td>\n",
       "      <td>0.7778</td>\n",
       "      <td>0.5263</td>\n",
       "      <td>NaN</td>\n",
       "      <td>0.7073</td>\n",
       "      <td>0.6190</td>\n",
       "      <td>0.4091</td>\n",
       "      <td>0.7541</td>\n",
       "    </tr>\n",
       "    <tr>\n",
       "      <th>123</th>\n",
       "      <td>St. Anthony Park Elementary</td>\n",
       "      <td>557.0</td>\n",
       "      <td>4.0</td>\n",
       "      <td>0.7647</td>\n",
       "      <td>0.8448</td>\n",
       "      <td>0.5926</td>\n",
       "      <td>NaN</td>\n",
       "      <td>0.8095</td>\n",
       "      <td>0.7209</td>\n",
       "      <td>0.4375</td>\n",
       "      <td>0.8406</td>\n",
       "    </tr>\n",
       "    <tr>\n",
       "      <th>124</th>\n",
       "      <td>St. Anthony Park Elementary</td>\n",
       "      <td>557.0</td>\n",
       "      <td>5.0</td>\n",
       "      <td>0.5634</td>\n",
       "      <td>0.7805</td>\n",
       "      <td>0.2667</td>\n",
       "      <td>0.3077</td>\n",
       "      <td>0.5625</td>\n",
       "      <td>0.5641</td>\n",
       "      <td>0.3750</td>\n",
       "      <td>0.6596</td>\n",
       "    </tr>\n",
       "  </tbody>\n",
       "</table>\n",
       "</div>"
      ],
      "text/plain": [
       "                                  School    Num  Grade    Prof  White_Prof  \\\n",
       "38   L'Etoile Du Nord French Immersion U  462.0    3.0  0.6230      0.7857   \n",
       "39   L'Etoile Du Nord French Immersion U  462.0    4.0  0.6000      0.8571   \n",
       "40   L'Etoile Du Nord French Immersion U  462.0    5.0  0.7125      0.8250   \n",
       "59   Jie Ming Mandarin Immersion Academy  483.0    3.0  0.9032         NaN   \n",
       "60   Jie Ming Mandarin Immersion Academy  483.0    4.0  1.0000         NaN   \n",
       "61   Jie Ming Mandarin Immersion Academy  483.0    5.0  0.8571         NaN   \n",
       "91                    Horace Mann School  518.0    3.0  0.8421      0.9070   \n",
       "92                    Horace Mann School  518.0    4.0  0.7869      0.9000   \n",
       "93                    Horace Mann School  518.0    5.0  0.5769      0.6667   \n",
       "113          Randolph Heights Elementary  545.0    3.0  0.8333      0.9615   \n",
       "114          Randolph Heights Elementary  545.0    4.0  0.7826      0.8889   \n",
       "115          Randolph Heights Elementary  545.0    5.0  0.6418      0.7250   \n",
       "122          St. Anthony Park Elementary  557.0    3.0  0.6627      0.7778   \n",
       "123          St. Anthony Park Elementary  557.0    4.0  0.7647      0.8448   \n",
       "124          St. Anthony Park Elementary  557.0    5.0  0.5634      0.7805   \n",
       "\n",
       "     POC_Prof  Black_Prof  Male_Prof  Female_Prof  FRPL_Prof  NonFRPL_Prof  \n",
       "38     0.4848      0.6923     0.6957       0.5789     0.4286        0.6809  \n",
       "39     0.2400      0.2857     0.5385       0.6471     0.3500        0.7250  \n",
       "40     0.6000      0.7333     0.7407       0.6981     0.4583        0.8214  \n",
       "59        NaN         NaN     0.8462       0.9444        NaN        0.9259  \n",
       "60        NaN         NaN     1.0000       1.0000        NaN        1.0000  \n",
       "61        NaN         NaN        NaN       0.8462        NaN        0.9286  \n",
       "91     0.6429         NaN     0.7727       0.8857        NaN        0.9000  \n",
       "92     0.5714         NaN     0.7429       0.8462     0.4615        0.8750  \n",
       "93     0.4074      0.2000     0.6000       0.5455     0.2222        0.6833  \n",
       "113    0.5769      0.4167     0.7500       0.9048     0.5926        0.9608  \n",
       "114    0.5833         NaN     0.7949       0.7667     0.3500        0.9592  \n",
       "115    0.5185         NaN     0.6774       0.6111     0.5238        0.6957  \n",
       "122    0.5263         NaN     0.7073       0.6190     0.4091        0.7541  \n",
       "123    0.5926         NaN     0.8095       0.7209     0.4375        0.8406  \n",
       "124    0.2667      0.3077     0.5625       0.5641     0.3750        0.6596  "
      ]
     },
     "execution_count": 7,
     "metadata": {},
     "output_type": "execute_result"
    }
   ],
   "source": [
    "Enroll.query('Num in (518,557,483,545,462)')\n",
    "Math.query('Num in (518,557,483,545,462)')\n",
    "\n",
    "\n",
    "#Enroll.query()"
   ]
  },
  {
   "cell_type": "code",
   "execution_count": 3,
   "metadata": {},
   "outputs": [
    {
     "data": {
      "text/plain": [
       "Index(['School_Num', 'School_Name', 'Tot_Enroll', 'Male%', 'White%', 'Black%',\n",
       "       'Asian%', 'FRP%', 'ELL%', 'SPED%', 'Homeless%'],\n",
       "      dtype='object')"
      ]
     },
     "execution_count": 3,
     "metadata": {},
     "output_type": "execute_result"
    }
   ],
   "source": [
    "Enroll.columns"
   ]
  },
  {
   "cell_type": "markdown",
   "metadata": {},
   "source": []
  }
 ],
 "metadata": {
  "kernelspec": {
   "display_name": "Python 3",
   "language": "python",
   "name": "python3"
  },
  "language_info": {
   "codemirror_mode": {
    "name": "ipython",
    "version": 3
   },
   "file_extension": ".py",
   "mimetype": "text/x-python",
   "name": "python",
   "nbconvert_exporter": "python",
   "pygments_lexer": "ipython3",
   "version": "3.7.3"
  }
 },
 "nbformat": 4,
 "nbformat_minor": 2
}
